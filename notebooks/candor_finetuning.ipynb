{
 "cells": [
  {
   "cell_type": "code",
   "execution_count": 1,
   "metadata": {},
   "outputs": [],
   "source": [
    "import pandas as pd\n",
    "from pathlib import Path"
   ]
  },
  {
   "cell_type": "code",
   "execution_count": 2,
   "metadata": {},
   "outputs": [],
   "source": [
    "sample_candor_folder_path = '../data/candor/sample/0020a0c5-1658-4747-99c1-2839e736b481/'\n",
    "# sample_transcribe_output_path = '../data/candor/sample/0020a0c5-1658-4747-99c1-2839e736b481/transcription/transcribe_output.json'"
   ]
  },
  {
   "cell_type": "code",
   "execution_count": 3,
   "metadata": {},
   "outputs": [],
   "source": [
    "convo_path = Path(sample_candor_folder_path)\n",
    "# convo_tokens = load_conversation_tokens(convo_path)"
   ]
  },
  {
   "cell_type": "markdown",
   "metadata": {},
   "source": [
    "Backbiter transcript doesn't work as well for LM training purposes since turns are not split by full sentences, so sentences cannot be easily pieced back together.\n",
    "\n",
    "Cliffhanger (below) is a better format since they are grouped by punctuation."
   ]
  },
  {
   "cell_type": "code",
   "execution_count": null,
   "metadata": {},
   "outputs": [],
   "source": [
    "# backbiter = pd.read_csv(convo_path / 'transcription/transcript_backbiter.csv')\n",
    "# backbiter\n",
    "# for id, row in backbiter.iterrows():\n",
    "#     speaker = row['speaker'][-3:]\n",
    "#     utterance = row['utterance']\n",
    "#     print(f'{id=} {speaker=} {utterance=}')"
   ]
  },
  {
   "cell_type": "code",
   "execution_count": 11,
   "metadata": {},
   "outputs": [
    {
     "data": {
      "text/html": [
       "<div>\n",
       "<style scoped>\n",
       "    .dataframe tbody tr th:only-of-type {\n",
       "        vertical-align: middle;\n",
       "    }\n",
       "\n",
       "    .dataframe tbody tr th {\n",
       "        vertical-align: top;\n",
       "    }\n",
       "\n",
       "    .dataframe thead th {\n",
       "        text-align: right;\n",
       "    }\n",
       "</style>\n",
       "<table border=\"1\" class=\"dataframe\">\n",
       "  <thead>\n",
       "    <tr style=\"text-align: right;\">\n",
       "      <th></th>\n",
       "      <th>turn_id</th>\n",
       "      <th>speaker</th>\n",
       "      <th>start</th>\n",
       "      <th>stop</th>\n",
       "      <th>utterance</th>\n",
       "      <th>interval</th>\n",
       "      <th>delta</th>\n",
       "      <th>questions</th>\n",
       "      <th>end_question</th>\n",
       "      <th>overlap</th>\n",
       "      <th>n_words</th>\n",
       "    </tr>\n",
       "  </thead>\n",
       "  <tbody>\n",
       "    <tr>\n",
       "      <th>0</th>\n",
       "      <td>0</td>\n",
       "      <td>5fa072f4f4aa580b63834357</td>\n",
       "      <td>4.34</td>\n",
       "      <td>190.04</td>\n",
       "      <td>Mhm. Mhm. Just, mm. And Uh huh, mm. Mhm. Mhm. ...</td>\n",
       "      <td>NaN</td>\n",
       "      <td>185.70</td>\n",
       "      <td>2</td>\n",
       "      <td>False</td>\n",
       "      <td>False</td>\n",
       "      <td>38</td>\n",
       "    </tr>\n",
       "    <tr>\n",
       "      <th>1</th>\n",
       "      <td>1</td>\n",
       "      <td>5a73899f9cdd1800017786f0</td>\n",
       "      <td>198.34</td>\n",
       "      <td>201.76</td>\n",
       "      <td>Yeah hey I'm gone.</td>\n",
       "      <td>8.30</td>\n",
       "      <td>3.42</td>\n",
       "      <td>0</td>\n",
       "      <td>False</td>\n",
       "      <td>False</td>\n",
       "      <td>5</td>\n",
       "    </tr>\n",
       "    <tr>\n",
       "      <th>2</th>\n",
       "      <td>2</td>\n",
       "      <td>5fa072f4f4aa580b63834357</td>\n",
       "      <td>200.64</td>\n",
       "      <td>203.96</td>\n",
       "      <td>Oh good, how are you?</td>\n",
       "      <td>-1.12</td>\n",
       "      <td>3.32</td>\n",
       "      <td>1</td>\n",
       "      <td>True</td>\n",
       "      <td>True</td>\n",
       "      <td>5</td>\n",
       "    </tr>\n",
       "    <tr>\n",
       "      <th>3</th>\n",
       "      <td>3</td>\n",
       "      <td>5a73899f9cdd1800017786f0</td>\n",
       "      <td>204.54</td>\n",
       "      <td>214.66</td>\n",
       "      <td>Yeah yeah I've done a few of these before they...</td>\n",
       "      <td>0.58</td>\n",
       "      <td>10.12</td>\n",
       "      <td>0</td>\n",
       "      <td>False</td>\n",
       "      <td>False</td>\n",
       "      <td>15</td>\n",
       "    </tr>\n",
       "    <tr>\n",
       "      <th>4</th>\n",
       "      <td>4</td>\n",
       "      <td>5fa072f4f4aa580b63834357</td>\n",
       "      <td>205.34</td>\n",
       "      <td>214.56</td>\n",
       "      <td>Yeah. Yeah, so this will be an interesting stu...</td>\n",
       "      <td>-9.32</td>\n",
       "      <td>9.22</td>\n",
       "      <td>0</td>\n",
       "      <td>False</td>\n",
       "      <td>True</td>\n",
       "      <td>14</td>\n",
       "    </tr>\n",
       "    <tr>\n",
       "      <th>...</th>\n",
       "      <td>...</td>\n",
       "      <td>...</td>\n",
       "      <td>...</td>\n",
       "      <td>...</td>\n",
       "      <td>...</td>\n",
       "      <td>...</td>\n",
       "      <td>...</td>\n",
       "      <td>...</td>\n",
       "      <td>...</td>\n",
       "      <td>...</td>\n",
       "      <td>...</td>\n",
       "    </tr>\n",
       "    <tr>\n",
       "      <th>320</th>\n",
       "      <td>320</td>\n",
       "      <td>5fa072f4f4aa580b63834357</td>\n",
       "      <td>2727.21</td>\n",
       "      <td>2728.01</td>\n",
       "      <td>So thank you.</td>\n",
       "      <td>0.70</td>\n",
       "      <td>0.80</td>\n",
       "      <td>0</td>\n",
       "      <td>False</td>\n",
       "      <td>False</td>\n",
       "      <td>3</td>\n",
       "    </tr>\n",
       "    <tr>\n",
       "      <th>321</th>\n",
       "      <td>321</td>\n",
       "      <td>5a73899f9cdd1800017786f0</td>\n",
       "      <td>2728.29</td>\n",
       "      <td>2731.92</td>\n",
       "      <td>Yeah I get to enjoy your day evening.</td>\n",
       "      <td>0.28</td>\n",
       "      <td>3.63</td>\n",
       "      <td>0</td>\n",
       "      <td>False</td>\n",
       "      <td>False</td>\n",
       "      <td>8</td>\n",
       "    </tr>\n",
       "    <tr>\n",
       "      <th>322</th>\n",
       "      <td>322</td>\n",
       "      <td>5fa072f4f4aa580b63834357</td>\n",
       "      <td>2731.29</td>\n",
       "      <td>2733.00</td>\n",
       "      <td>Yes, you too. Have a good night.</td>\n",
       "      <td>-0.63</td>\n",
       "      <td>1.71</td>\n",
       "      <td>0</td>\n",
       "      <td>False</td>\n",
       "      <td>True</td>\n",
       "      <td>7</td>\n",
       "    </tr>\n",
       "    <tr>\n",
       "      <th>323</th>\n",
       "      <td>323</td>\n",
       "      <td>5a73899f9cdd1800017786f0</td>\n",
       "      <td>2732.59</td>\n",
       "      <td>2734.09</td>\n",
       "      <td>Yeah. Yeah.</td>\n",
       "      <td>-0.41</td>\n",
       "      <td>1.50</td>\n",
       "      <td>0</td>\n",
       "      <td>False</td>\n",
       "      <td>True</td>\n",
       "      <td>2</td>\n",
       "    </tr>\n",
       "    <tr>\n",
       "      <th>324</th>\n",
       "      <td>324</td>\n",
       "      <td>5fa072f4f4aa580b63834357</td>\n",
       "      <td>2734.39</td>\n",
       "      <td>2734.66</td>\n",
       "      <td>But</td>\n",
       "      <td>0.30</td>\n",
       "      <td>0.27</td>\n",
       "      <td>0</td>\n",
       "      <td>False</td>\n",
       "      <td>False</td>\n",
       "      <td>1</td>\n",
       "    </tr>\n",
       "  </tbody>\n",
       "</table>\n",
       "<p>325 rows × 11 columns</p>\n",
       "</div>"
      ],
      "text/plain": [
       "     turn_id                   speaker    start     stop  \\\n",
       "0          0  5fa072f4f4aa580b63834357     4.34   190.04   \n",
       "1          1  5a73899f9cdd1800017786f0   198.34   201.76   \n",
       "2          2  5fa072f4f4aa580b63834357   200.64   203.96   \n",
       "3          3  5a73899f9cdd1800017786f0   204.54   214.66   \n",
       "4          4  5fa072f4f4aa580b63834357   205.34   214.56   \n",
       "..       ...                       ...      ...      ...   \n",
       "320      320  5fa072f4f4aa580b63834357  2727.21  2728.01   \n",
       "321      321  5a73899f9cdd1800017786f0  2728.29  2731.92   \n",
       "322      322  5fa072f4f4aa580b63834357  2731.29  2733.00   \n",
       "323      323  5a73899f9cdd1800017786f0  2732.59  2734.09   \n",
       "324      324  5fa072f4f4aa580b63834357  2734.39  2734.66   \n",
       "\n",
       "                                             utterance  interval   delta  \\\n",
       "0    Mhm. Mhm. Just, mm. And Uh huh, mm. Mhm. Mhm. ...       NaN  185.70   \n",
       "1                                   Yeah hey I'm gone.      8.30    3.42   \n",
       "2                                Oh good, how are you?     -1.12    3.32   \n",
       "3    Yeah yeah I've done a few of these before they...      0.58   10.12   \n",
       "4    Yeah. Yeah, so this will be an interesting stu...     -9.32    9.22   \n",
       "..                                                 ...       ...     ...   \n",
       "320                                      So thank you.      0.70    0.80   \n",
       "321              Yeah I get to enjoy your day evening.      0.28    3.63   \n",
       "322                   Yes, you too. Have a good night.     -0.63    1.71   \n",
       "323                                        Yeah. Yeah.     -0.41    1.50   \n",
       "324                                                But      0.30    0.27   \n",
       "\n",
       "     questions  end_question  overlap  n_words  \n",
       "0            2         False    False       38  \n",
       "1            0         False    False        5  \n",
       "2            1          True     True        5  \n",
       "3            0         False    False       15  \n",
       "4            0         False     True       14  \n",
       "..         ...           ...      ...      ...  \n",
       "320          0         False    False        3  \n",
       "321          0         False    False        8  \n",
       "322          0         False     True        7  \n",
       "323          0         False     True        2  \n",
       "324          0         False    False        1  \n",
       "\n",
       "[325 rows x 11 columns]"
      ]
     },
     "execution_count": 11,
     "metadata": {},
     "output_type": "execute_result"
    }
   ],
   "source": [
    "cliffhanger = pd.read_csv(convo_path / 'transcription/transcript_cliffhanger.csv')\n",
    "cliffhanger"
   ]
  },
  {
   "cell_type": "code",
   "execution_count": 13,
   "metadata": {},
   "outputs": [
    {
     "name": "stdout",
     "output_type": "stream",
     "text": [
      "id=0 speaker='357' utterance='Mhm. Mhm. Just, mm. And Uh huh, mm. Mhm. Mhm. What? Mhm. Uh huh. Mhm. Yeah. Mhm. Mhm. Yeah. Oh. Oh yeah. Mhm. Yeah. Yeah. Great. Really? Yeah. Yeah. Yeah. Yeah. Yeah. Mhm. Yeah. Mhm. Yeah. Mhm. Yeah.'\n"
     ]
    }
   ],
   "source": [
    "for id, row in cliffhanger.iterrows():\n",
    "    speaker = row['speaker'][-3:]\n",
    "    utterance = row['utterance']\n",
    "    print(f'{id=} {speaker=} {utterance=}')\n",
    "    break"
   ]
  },
  {
   "cell_type": "markdown",
   "metadata": {},
   "source": [
    "## Load data from transcript_cliffhanger.csv with HuggingFace"
   ]
  },
  {
   "cell_type": "code",
   "execution_count": 15,
   "metadata": {},
   "outputs": [],
   "source": [
    "from datasets import load_dataset, DatasetDict, load_from_disk"
   ]
  },
  {
   "cell_type": "code",
   "execution_count": 18,
   "metadata": {},
   "outputs": [],
   "source": [
    "candor_sample_dir = '../data/candor/sample/0020a0c5-1658-4747-99c1-2839e736b481/'"
   ]
  },
  {
   "cell_type": "code",
   "execution_count": 19,
   "metadata": {},
   "outputs": [
    {
     "data": {
      "application/vnd.jupyter.widget-view+json": {
       "model_id": "b6ae30a2324f46e6a026f32fb0926db0",
       "version_major": 2,
       "version_minor": 0
      },
      "text/plain": [
       "Generating train split: 0 examples [00:00, ? examples/s]"
      ]
     },
     "metadata": {},
     "output_type": "display_data"
    }
   ],
   "source": [
    "candor_single_csv_data = load_dataset(\n",
    "    \"csv\", \n",
    "    data_files=[candor_sample_dir + \"transcription/transcript_cliffhanger.csv\"]\n",
    ")"
   ]
  },
  {
   "cell_type": "code",
   "execution_count": 20,
   "metadata": {},
   "outputs": [
    {
     "data": {
      "text/plain": [
       "DatasetDict({\n",
       "    train: Dataset({\n",
       "        features: ['turn_id', 'speaker', 'start', 'stop', 'utterance', 'interval', 'delta', 'questions', 'end_question', 'overlap', 'n_words'],\n",
       "        num_rows: 325\n",
       "    })\n",
       "})"
      ]
     },
     "execution_count": 20,
     "metadata": {},
     "output_type": "execute_result"
    }
   ],
   "source": [
    "candor_single_csv_data"
   ]
  },
  {
   "cell_type": "code",
   "execution_count": 21,
   "metadata": {},
   "outputs": [
    {
     "data": {
      "text/plain": [
       "['Mhm. Mhm. Just, mm. And Uh huh, mm. Mhm. Mhm. What? Mhm. Uh huh. Mhm. Yeah. Mhm. Mhm. Yeah. Oh. Oh yeah. Mhm. Yeah. Yeah. Great. Really? Yeah. Yeah. Yeah. Yeah. Yeah. Mhm. Yeah. Mhm. Yeah. Mhm. Yeah.',\n",
       " \"Yeah hey I'm gone.\",\n",
       " 'Oh good, how are you?',\n",
       " \"Yeah yeah I've done a few of these before they're not too bad.\",\n",
       " \"Yeah. Yeah, so this will be an interesting study. Mhm. I don't know.\",\n",
       " 'Is this your first time doing?',\n",
       " \"Okay, this is actually my first one so uh yeah it's my first time doing yeah chad study so I guess I don't even know when there are, so it's kind of cool. There we go.\",\n",
       " 'Uh huh yep not too bad.',\n",
       " \"Oh excellent, so hard that we've been going, I don't know.\",\n",
       " \"Uh Feel a little crappy today but Uh huh it's that time of year I suppose so yeah the kid's been a little sick yeah the kid hasn't been feeling good and I think she shared it with me so but yeah.\",\n",
       " \"Oh no, are you getting sick? Oh thanks, Tiny firm sponge. I swear that's that's what kids do, they're just kind of like you know, meant to sort of spread germs and viruses everywhere, but they're so cute, they do such a good job of it.\",\n",
       " \"Oh yes mm. Right yeah yeah the other one got sent home from school today so um 22 girls if I'm yeah yeah.\",\n",
       " \"Yeah. Oh my God. Oh yeah, you know how many kids do you have? Yeah. Oh that's awesome. So I have uh no kids myself not as of yet. So that will so you know you know, but I do really like sleep quite a bit and I hear that that's like the number one thing that you give up when you have kids is I don't know sleep.\",\n",
       " \"Uh huh. Oh enjoy it while you can yeah. Okay mm. Yeah yeah yeah yeah uh they've both been pretty good as far as staying up late or I mean you know keeping you up at night.\",\n",
       " 'And then um is and I like both of those things. Mhm.',\n",
       " \"Uh So I've been very very lucky because I heard that a lot like you might as well get ready to sleep a few hours a night and it hasn't been too bad.\",\n",
       " 'Oh but no. Oh good, good.',\n",
       " 'Mhm. Uh huh.',\n",
       " 'So how old are you girls?',\n",
       " 'Right. Oh seven and three oh yeah yeah.',\n",
       " 'Mm. Oh that sounds really cute. So what are their names? Do you mind me asking? But I just I love kids, I used to actually I used to work with kids um as a program director of the nonprofit and my favorite stuff that I got to organize with stuff for the little kids.',\n",
       " \"Mhm. Oh right no no that's fine.\",\n",
       " \"So so if you don't mind me asking, that's anyway.\",\n",
       " 'I same way I have a lot of nieces and I worked at the elementary school for a while when I was in high school and I love kids too.',\n",
       " 'Yeah.',\n",
       " 'But the oldest is Pepper, the youngest is raven wow okay.',\n",
       " 'Oh this is so cool.',\n",
       " 'Yeah.',\n",
       " 'Those are unique names I love. So what made you discern?',\n",
       " 'Yeah. Yeah. Our names. Mhm.',\n",
       " 'Oh yeah, go ahead.',\n",
       " \"Uh huh the oldest is my wife's with her ex so I don't know I don't know the backstory too much on that one.\",\n",
       " 'Okay.',\n",
       " \"Uh The youngest is ours together and we when she got pregnant we decided if it's a boy I'll name it if it's a girl you name it and we didn't really exchange names so as soon as the doctor said it's a girl, raven is what she spit out and apparently she had been she wanted something different I guess we've got pretty generic names, the two of us pretty common names, so yeah, in Italy, yeah, yeah.\",\n",
       " \"Mhm. I know what you mean. My name was like the # seven most popular name or something like that in like 1997. But I was born in 88. And so suddenly like throughout all of my middle school years I was just surrounded by all of these little toddlers named Caitlin and I can't stand it, I can't stand this. So I refused to go by Caitlin. Like I cannot stand it at all. The most basic like suburban softball team name and I just I can't stand it. Yes they did. So I just go by Katie and we just keep it keep it generic and keep it general.\",\n",
       " \"Oh yeah, I haven't minded my name, but it is really common.\",\n",
       " 'My God. Oh sorry. Well now you know that fun little tale about me. Sorry. Yeah. Mm.',\n",
       " \"All my siblings, I got four siblings too, and they're all about as typical as can be, there's no, no sense of uniqueness in any of our names.\",\n",
       " 'Oh man. So uh we are all of us um in my family. I mean like our first names are pretty kind of generic and typical, but at least we have, you know, a little bit of uh you know, kind of fun with our middle names. At least my parents kind of had like yeah a little bit more fun with our middle names.',\n",
       " 'Mhm, Mhm Yeah, we did not, yeah, and so we we did not, we got generic middle names too.',\n",
       " \"So, but yeah, I mean we, we kind of locked out there, so now I'm going to guess by the Green Bay, mm what was it? Yeah. Yeah and they're all john I don't know. Oh my God, I'm gonna guess by the Green Bay Packers.\",\n",
       " 'Mhm, quote yes, yep, Wisconsin, Uh huh, Nice.',\n",
       " \"How do you get your a midwesterner? And you know you're a little midwesterner as well too, although I'm from Iowa and so yep, yep, yep.\",\n",
       " 'Yeah, you have any sports at all then?',\n",
       " \"Oh my God, I'm let's see myself personally, I don't really follow a bunch of sports, I'm sorry you kind of cut out for a second. Why are you asking if I follow sports?\",\n",
       " 'Yes, Yeah.',\n",
       " 'Yes. Okay, cool, Okay.',\n",
       " 'Mhm Yeah, Yeah, yeah.',\n",
       " \"Sorry. Yeah, the sound kind of quick second uh myself, personally, No, I don't tend to follow a ton of sports. Um but my partner is a big cowboys fan, so uh whenever the cowboys are on.\",\n",
       " 'Uh huh, Mhm Uh huh Right, yeah, mm hmm.',\n",
       " \"Yeah, yeah, yeah, that's kind of what we're watching, I'm like, all right, cool, sounds good. No cowboys, but I mean I'm not emotionally invested in any one team. Uh but baking competitions like great british bake off, I'm very emotionally invested in how will someone is able to make, like, you know, scones or, or a victorious fund, then I'm I'm all about it. And uh yeah, so every week I'm watching a new episode on netflix, and my partner jesse is like, oh, it's time for Katie Super Bowl.\",\n",
       " 'Yeah, Mhm Yeah, it baked goods are awesome.',\n",
       " \"Yeah, I don't know. I don't know. So. Oh, right, right.\",\n",
       " \"Uh huh Oh, uh huh, Mhm, mm So what's the pumping roller?\",\n",
       " \"And so actually, yeah, I did a ton of baking this last weekend. I'm trying to make, we've lived here uh in our house for about like three years now. And we're slowly getting like all of these new neighbors outside of like our next door neighbors who've probably been there since like, I don't know, like the, the korean war or whatever. They they're they've been here like the longest, and then it was us. And then all of a sudden we have like these new neighbors that have just, you know, bought houses all around us. So I'm trying to get to know like all of our new neighbors and I figured the best way to do that is to just like bribe them with baked goods. So I've been doing a bunch of pumpkin rolls, that's what I've been doing. I figure like everyone loves the pumpkin roll. So I've just been baking tons of pumpkin rolls, and then walking them around all the neighbors. And I mean, customer are it seems to be an all right social experiment in like how to win over friends. Well, it seems it seems to work OK, seems to work OK. But but yeah, I don't know a pumpkin roll.\",\n",
       " 'Yeah, yeah.',\n",
       " \"So it's like, so have you ever heard like a swiss cake roll? It's like a chocolate cake that you rolled up?\",\n",
       " 'Oh yeah, yep, Okay, yeah, that sounds are, yeah, Well Oh, Mhm Uh huh What?',\n",
       " \"Yeah, so it's like that. But um So yeah, it's just like a pumpkin cake, and then you roll it with cream cheese frosting and it tastes like dreams and Starlight, and it's it's like my favorite fall dessert ever. Um Probably, yeah, it's it's crazy good. It's crazy good. So um yeah, I just like, want to start like, swapping midwestern recipes right now, because once I get down the baking avenue, like that, well, I talk about so I'm gonna go ahead and switch gears, because otherwise you're just going to hear about years and pie for like, the rest of, you know, for the rest of our time. And it's probably like the last thing you want to hear about?\",\n",
       " 'Yeah.',\n",
       " 'Mm.',\n",
       " 'Oh no, I love being good, yeah, okay, Uh huh, I work at an old factory, right, foam fo am Oh and right.',\n",
       " 'Yeah. Oh my God. So what do you do for a living? A phone? Phone factory. Oh, phones After I was like, a phone factory in the US. Like, what? You know, I was like, no way, does not know. Okay, following a factory.',\n",
       " 'Mhm.',\n",
       " \"Okay. That's kind of cool. So like, like for packing materials, or is it for?\",\n",
       " \"It's it's really hard to explain. Uh we make like headliners for john Deere tractors and bobcat and caterpillar, uh so it's a lot like headliner in a car, it's just not for a car, it's for a tractor, and that's a lot of what we do.\",\n",
       " 'Yeah. Oh, cool.',\n",
       " \"I think when they started, they did a lot different stuff, there was a lot more foam because I mean the headliner stuff isn't really foam, it's kind of so we still do other foam stuff. One of the companies makes like foams for uh like Joann fabrics, stuff like that, packing foam for like pillows and bears and and we make the phone from my pillows.\",\n",
       " 'Oh, yeah.',\n",
       " 'Mhm.',\n",
       " 'Really?',\n",
       " 'Yeah.',\n",
       " 'Like, like the the late night infomercial guy that my pil ho no weapon, He really is.',\n",
       " 'Yes. Yeah, that guy is the creepiest guy ever. Uh huh. Yes. Mhm. The The Pillow is Mediocre.',\n",
       " 'So are there any insider secrets you can tell me about? The my pillow. Okay. Just please. Oh my. Yeah.',\n",
       " \"It's not worth the price. I've got a few of them because they were like we could get them for like $10 at the time, so I got a few and for $10 it's okay but I probably won't pay much more than that.\",\n",
       " \"Yeah. Yeah. I that's hilarious.\",\n",
       " 'Yeah.',\n",
       " 'Now I can say like I kind of know someone who knows like the my pillow guy.',\n",
       " 'So. Yeah.',\n",
       " \"I don't know why that just like thrills me to no end.\",\n",
       " 'Yeah.',\n",
       " \"I think it's hilarious.\",\n",
       " 'Mhm.',\n",
       " 'Oh my god.',\n",
       " 'Oh yeah.',\n",
       " 'Uh So sad.',\n",
       " 'It is funny.',\n",
       " \"You know Is it? That's just hilarious. So how do you like like working in manufacturing? I I ask cause I also used to work in manufacturing. I joke that I'm like a Jacqueline of all trades because like I've been everything from like a barista to like working at Polaris and manufacturing to like being like you know one of the executive team members at a nonprofit and then like now I'm a graphic designer.\",\n",
       " \"Yeah. Uh huh. Oh right okay, it's not too bad.\",\n",
       " \"So so my resume looks really more but but yeah, I'm curious as to like what your how do you like working in manufacturing?\",\n",
       " \"I work at quality control, I started just working regular production and it's not too bad, I don't think I would want to work in production regularly where I work at least it's kind of mindless work and I don't know But it's not, I've been there for like 10 years now so and yeah and Yeah.\",\n",
       " \"Mhm. Yeah. Mhm. Mhm. Yeah. Oh, that's nice, That's great because I remember I remember going working um Remember when working on the line that we had like a fair amount of turnover, you know I mean? But you would always have like we would have like new people suddenly just it seems like almost every week, but then you would have you know those guys that were like there since the 80s, you know, and there was like no in between, there is no in between and it was really interesting and so Oh my gosh.\",\n",
       " \"Yeah, yep. Yeah. Yeah. Yeah it's the same way there there's a lot of Probably more older people than I joke a lot that the average age of the employee, there's like 60 and I that's probably close to.\",\n",
       " 'But yeah.',\n",
       " 'True.',\n",
       " \"Yeah, I mean like you know, they just they're I think they're that generation where they found a good job that you know that you'll set them up for retirement well and that's great and you know, it's it's kind of cool and I I often wonder about you know Like myself being, you know, I'm a little over 30, right?\",\n",
       " 'Um Oh yeah.',\n",
       " \"It seems like almost everyone in my like kind of age bracket and demographic like were either, I don't know if it's that we're not finding those jobs necessarily that allows us to be able to stay there until we're in our sixties or if we are just more naturally inclined to bounce around, but I'm not exactly sure, so kind of interesting. So I'm always curious.\",\n",
       " 'So what do you do with graphic, what do you do with graphics design? That sounds really really interesting.',\n",
       " \"I actually, so I work at like a promotional product company, so um I do everything that is as simple as like slapping someone's logo, like on a beer Cuzzi um all the way up to, you know, like creating designs, uh you know, for like t shirts and printed materials and that sort of thing.\",\n",
       " 'Yeah I I work. Yeah. Well what one?',\n",
       " 'And those are the projects I get really excited about what I get to kind of like chew on them a bit more versus like, you know, slapping a logo on a beer Cuzzi.',\n",
       " 'Yeah.',\n",
       " \"Um Yeah, yeah, and right now with the holidays, it's kind of cool because I'm doing um uh one of my favorite clients is organizing this like family game night and so we're putting together this whole like kit to be able to give to families at this outdoor social distance event they're doing.\",\n",
       " \"Okay. Uh huh. Uh huh. Didn't work.\",\n",
       " \"Um and it's going to be really quite cool, so it's gonna have like a booklet with like different kind of game rules and like I'm even constructing and designing the cover that it can be taken apart from the book and be used as like a, like a board game, kind of like a chutes and ladders esque board game.\",\n",
       " 'Uh huh. Yeah. Yeah.',\n",
       " \"And so I don't know, I just, anytime I have an opportunity to completely overthink and over design a project, I get really thrilled, I'm like let's throw as much effort into this as possible, it's gonna be really fun, so Yeah, yeah, yeah, and I've probably been there, yeah, I've been there for uh like over 3.5 years now, so Oh, that's alright, someone, right?\",\n",
       " 'But yeah. No. Mhm. Uh huh. You know? Yes. Mhm. You must be pretty creative then.',\n",
       " 'Um I would say I get to be creative probably about like 20% of the time, and I wish I was allowed to be creative more like 40-50% out of the time.',\n",
       " 'Oh yeah.',\n",
       " \"Um because I need that like good balance of, you know, kind of like brainless work, but then like high intensity like creative work. I've just discovered that about me uh you know, many years ago, so um But yeah, yeah, uh we're going to be kind of like expanding in some interesting directions though in the future, so I get to actually do some like silk screen printing.\",\n",
       " 'Right. Yeah.',\n",
       " \"Like we're talking about getting like a silk screen set up and everything.\",\n",
       " 'Yeah.',\n",
       " 'And like that thrills me to no end the idea of getting to where to really like crappy clothes covered in ink in like a print studio in a garage, you know?',\n",
       " 'Jack. Mhm. Oh mm. Yeah. Yeah.',\n",
       " \"So because essentially my boss was like, out of everyone that works here, you're the only one I can tell who would be excited about that.\",\n",
       " 'Mhm. Yeah. Yeah.',\n",
       " \"I was like, yes, you are correct. So yeah, I'll get to enjoy like, you know, some fun, like, you know, actual hands on printmaking work and then more design stuff and that just kind of sounds like right in my wheelhouse.\",\n",
       " 'Nice.',\n",
       " \"That sounds amazing. So um we're hoping in the spring were kind of hoping in the spring, that's when we're thinking whole yeah, silkscreen set up will be which will be perfect because Uh it's like 32° uh here in des Moines right now and the idea of being in a garage 32° does not appeal to me and the light of so Yeah.\",\n",
       " \"So what is that supposed to happen? Damn it. Thanks. Okay. Yeah It's the same, I think it's the same here about 32°..\",\n",
       " 'Okay. Yeah.',\n",
       " \"Yeah not as often as you would you would think I like fish don't get me wrong but my my wife and kids are a little bit more picky, although the kids seem to like fish more than her.\",\n",
       " \"Yeah, exactly. Okay. It's going to seem like a totally totally random question, but being a Wisconsinite, how frequently do you attend fish fries? Uh huh. Yeah. Yes. Okay.\",\n",
       " \"I have fish in my freezer from ice fishing last year. Uh but I do not, my buddy came up my from, he's in the service, he came up for my wedding last year and that is the one thing he wanted, like I want fish.\",\n",
       " 'Nice. Yeah. Oh. Mhm.',\n",
       " \"So we actually went to a local bar and went got a fish fry for him because he wanted, yeah, he used to live up, he used to live up here too, and we went to fish fries every once in a while when we were kids, so he lives in texas now because he's in the service, but when he was up here he wanted to fish.\",\n",
       " \"It's also what? Uh huh That's really good. Mhm. Mhm.\",\n",
       " 'Oh yeah, yeah.',\n",
       " \"That's awesome. When I, like the last time I was in Wisconsin was like several years ago and one of the best meals that I had, there was actually at a fish fry, like a friday night fish fry. This place called the serb hall in Milwaukee and it was like the strangest environment to eaten ever. It was like very large event hall and all of the wait staff were like wearing very formal suits and tuxedos, But like the dress code of the actual people eating, there was very relaxed and when I say 40% of the people were wearing like exactly what you're wearing. I am not exaggerating.\",\n",
       " 'Uh huh Oh um Uh huh mhm Yeah.',\n",
       " 'And so you were surrounded by like wait staff wearing like either tuxedos are very formal suits and then like green bay packers gear as far as the eye can see and the Munich selection ranged from like Sarah McLachlan to traditional Serbian folk music and like it was, it was very strange but the food was incredible and they also had like spotted cow as well too.',\n",
       " 'Yeah.',\n",
       " \"So I had as much spotted cow because we don't have that in Iowa.\",\n",
       " 'Yeah.',\n",
       " \"So I was drinking as much spotted how could possibly consume and as much fried fish and I'm still chasing that high because that was so are the best food I have ever had.\",\n",
       " \"Right. Yeah. Yeah, mm Uh huh It's yeah, spotted cow is no joke either, That is good beer.\",\n",
       " \"And so I don't know, I just want to say Wisconsin, I about to your prowess of making incredible fried fish. Um So yeah, I don't know. I don't know why. I just looked like, like I said, really, I cannot stop thinking about that meal. It's like every couple of months man, like, you know, it was really good. That fried fish at serb hall, like thinking about it. It's hilarious. Um school good. My God.\",\n",
       " 'Oh.',\n",
       " 'And like I, I love like craft beer as well too, so being able to go around like all the different breweries and stuff, uh, was like the best.',\n",
       " 'Oh yes.',\n",
       " \"I absolutely loved it. But yeah, next time I go to Wisconsin, I've already put in my notes, my beer notes that I have to bring back at least a case of spotted cow because it was amazing.\",\n",
       " 'Oh, uh huh And yeah, so did you check out some breweries in Milwaukee then?',\n",
       " \"It was amazing. I did and I really wish I could remember the names of them. Um Oh yeah, they're literally all escaping me.\",\n",
       " 'Uh huh Okay.',\n",
       " \"I don't know. I just, if I travel anywhere, it's like mandatory that I have to find any sort of like local microbrewery and then just get a flight and just keep sampling.\",\n",
       " 'Yes, yeah, I live about five hours from Milwaukee.',\n",
       " \"That's, that's kind of like a must do on any trip I take anywhere. So yeah.\",\n",
       " \"I live right on the border, I'm like a half hour from the twin cities. So I live right on the border of Minnesota.\",\n",
       " 'Oh wow.',\n",
       " 'But the first time and I think the second time in like the fourth time I went to Milwaukee, I went to a place called crackers and did their brewery tour and it was so good.',\n",
       " \"I think maybe I think I did go to spread occurs okay, describe speakers because it's happened.\",\n",
       " \"It's in a it's in an odd neighborhood, I mean it's not where you would expect it, it's almost like a where there's housing and whatnot, but on the outside there's to like gargoyles or dogs or something sitting out there, it's inside the little shop is kind of small and cramped, but a beer and cheese tasting at the end and it is phenomenal.\",\n",
       " 'Yeah. Mhm Oh mm ah Oh my God. Okay. That sounds awesome. I might need to, when you know the world starts like, or actually say the world starts getting back to normal slash stops catching on fire all the time.',\n",
       " 'Yeah, please.',\n",
       " \"I would have to plan a trip to Wisconsin because it's so I don't know what it is about, I feel this way about Minnesota as well too, but it's like as soon as you cross the border into either Minnesota or Wisconsin, it's like the further up north you go suddenly stuff just gets like exponentially prettier, especially in the fall and I don't know what it is, I don't know what you have in the dirt up there.\",\n",
       " 'Mhm Oh Uh huh Uh huh.',\n",
       " 'But I swear like I there was a good friend of mine, she got married in ST paul like several years ago and her wedding was in october and I was living in Northwest Iowa at the time district for anyway. But yeah, like as soon as we crossed the border it was like the colors and everything just kept getting prettier and prettier and prettier and actually had the last time I was in Wisconsin was in the fall as well too and it just looked like super gorgeous all around.',\n",
       " 'Okay. All right.',\n",
       " \"So like I said, I don't know if you're like like watering all your trees with that spotted cow or whatever, Maybe you are and that's the secret.\",\n",
       " 'Mhm. Except Yeah.',\n",
       " \"But it was really gorgeous. It was really, really pretty and so you know, and I like to say that Iowa is pretty too, but it's namely a long kind of like the Mississippi like all those rebounds along there.\",\n",
       " 'Yeah. Mhm. Yeah.',\n",
       " \"That's kind of work that feels so yeah.\",\n",
       " \"Mhm. Uh I think the only time, well actually I've been Iowa, I drove through there once because I moved down to texas for a little less than a year.\",\n",
       " 'Really?',\n",
       " \"And the the place I work for Federal foam, it's called it uh They've got a facility in Northwood Iowa, which I think is the northern part right across the border.\",\n",
       " 'Northwood. Okay. I have not heard of Northwood so.',\n",
       " \"It's a super small town. But when they, when we had, when Federal foam had bought that facility, it was called something else at the time I went down there for some training To train some of the staff down there and but I mean that's, I think it's like 10 minutes across the Minnesota border, so it's barely into Iowa, but that's the only time I've ever been there.\",\n",
       " 'Mhm.',\n",
       " 'A lot of my family lives in Minnesota and I I went to school there for a few years but I have not been to Iowa much at all.',\n",
       " \"That's okay.\",\n",
       " \"There's a yeah.\",\n",
       " \"That's all right. Maybe there's a reason why, you know, we call ourselves to fly over state. You know, we have like a line of like, you know, we might as well be the drive through state as well to at this point.\",\n",
       " 'Yeah. Yeah.',\n",
       " 'But yeah.',\n",
       " 'Right.',\n",
       " \"Yeah, that's okay.\",\n",
       " 'And I have, yeah it is look okay.',\n",
       " \"We we take a describe we iowan were known your kind of our, you know, just self deprecating humor, just being super chill with being ignored until election season anyway. And then it's like, oh now you like, oh no well thank you, thank you.\",\n",
       " \"Yeah. I never quite understood that if it makes you feel any better I don't like Minnesota at all so at least Iowa's above Minnesota. Yeah. Yeah but I like, I like the midwest a lot.\",\n",
       " 'That actually does make me feel well sometimes.',\n",
       " 'I really really do love it here.',\n",
       " \"Right? Yeah, I love the midwest. I don't know like there is a certain charm and like you know having that like you know the the Iowa nice or like the midwestern nice and like and the fact that we put, you know jello and food and call it a salad, like I ever know there's there's there's a certain charm you know, I think it's a, a certain genuine quality to being a midwesterner that, you know, I don't know, but it just gets me right here, you know, right here.\",\n",
       " 'Uh huh. Thank you. Yeah. Yes. Oh. Oh right.',\n",
       " \"So Oh my dad, I actually have some cousins from down in Georgia and yeah, every time you know, we have to interact with them as a family, it's like it's like it's like trying to talk to people from a completely different country, it's like I know the United States, but like I swear, I don't know, I don't know what it is about these people, it's like they've never like another day in their life and they've never just like, I don't know, I still God bless him, God look a lot.\",\n",
       " 'Yeah. Yes. Yeah. Yeah. But yeah. Yes. Good. Okay. All right. Tweet. Right. Yeah. But no.',\n",
       " \"Like I can't even say like you know, I got sticks with their asses, like I can't even say that as the midwestern and I just have to say, oh God bless him, you're so sweet!\",\n",
       " 'Yeah. Plus their heart correct.',\n",
       " 'Oh yes, Happy bless your heart, Bless their hearts! Uh huh.',\n",
       " 'Oh.',\n",
       " \"Oh my God, I'm cracking myself up with at this point, wow, mm Oh so my gosh, so is it freezing cold in like where you are right now?\",\n",
       " 'Oh. Uh huh. Yeah. Yeah. Right.',\n",
       " 'Like I live here?',\n",
       " \"Yeah. I think it the high today was 32. I was trying to look and see what the temperature is now but I know the highways 32 so it's probably about 30 right now.\",\n",
       " \"You know, if I could live my life perpetually in a state of october I would be very, very happy because it's not blazing hot and it's not freezing cold and you are allowed to be weird in october, like you are allowed every single liberty to just eat as much candy as you want and dress as strangely as you want to.\",\n",
       " 'Okay. Yeah, yeah.',\n",
       " \"And so if I could live the rest of my life, like it's october, I would be I would be incredibly happy.\",\n",
       " 'Mhm.',\n",
       " 'Very happy. So do you guys do stuff, did you guys do stuff for Halloween?',\n",
       " \"I love october, october is my favorite month by far. Halloween is my favorite holiday. I love october right, No, it is a super bummer because some a coworker that I worked closely with tested positive for covid right beforehand, so I was like, well we're feeling a little bit under the weather, so it's like let's go get tested and we were waiting for the results come back.\",\n",
       " 'You go trick or treating? Oh no, sure.',\n",
       " \"So we had I got full sized candy bars to hand out that I ended up not handing out. And we've got a perfect little block where we go around the block, it takes like two hours, there's tons of houses, tons of kids uh get to go, it's a bummer, but mm yeah, trump.\",\n",
       " \"Um Oh my God. Uh we we have actually almost very similar, like my partner is a glass blower and his fellow glassblower at the studio where he works ended up testing positive for covid. Like the sunday before uh beggar's night here in des Moines. So in des Moines we do bigger, which has like the night before Halloween. I don't know why, I mean that's just how they set it up. And so we were waiting for uh my partner's test results to come back and I was getting super anxious because I had this whole thing I wanted to do for our house to like decorated to look like Jurassic park A. K. A. The greatest film ever made in the history of cinema. And so I was going to go like dressed as dr ellie Sattler ak laura dern. And I was going to be making these like large cardboard dinosaur skeletons.\",\n",
       " 'Mhm. What?',\n",
       " 'I was constructing a candy slide that was in the shape brontosaurus neck and like a brontosaurus head and everything.',\n",
       " 'Mhm Oh yeah, Uh huh.',\n",
       " \"So yes, I was going over the top, it's fine, but like I I had to put all of that stuff on hold until we got his test results back and it was like the thursday we got him back before friday beggar's night. And so I'm like alright, plan B, what can I organize like in a day to hand out to all these kids? And so I I had to really scale everything back. I just had to do like, you know, our bowl of candy out on the porch and like let kids, you know, pick up their candy and like, which I was kind of bummed about because I always love seeing the kids costumes every year, like it just makes my heart explode. And then every year I also hand out kids books as well to to all the kids. So I had to just make this big wall of books essentially where I tied all of the books like onto this pegboard with string and I got it done literally like A minute before the first trick or treaters was like you arrive at 6:00 and stuff like scrambling with strength was trying to get like this book board done. But yeah, it was pretty good. We had like a decent turnout. I was very happy to have like such a good turn out, you know, in the year of our Lord 2020 when everything is terrible. I I thought, I know, I thought for sure we were only going to have like 15 or 20 kids, but I think we had like 35 to 40 kids and I was happy with that, I was actually really, really happy with that, you know?\",\n",
       " \"And no, no, I was super bummed, I bought a slimer costume and we actually had, so we've got a big picture window here and we had a kid saw me from the window, we had the light off and everything and the kids saw me from the window and the kid was dressed as a ghostbuster and he saw me, he came to the door and we're like well what do you what do we do?\",\n",
       " \"And so because I also know that next year it's going to like it's going to be huge. It's going to be huge. And so yeah, well we can help for anyway, so No, you're gonna make me cry. Oh God. Mhm.\",\n",
       " \"And I was like well we don't know what our test results are, I don't want to go hand out some candy to this kid so like we had to just ignore it and I felt so horrible just because what do I I couldn't open the door and hey kid I might have to get out of here.\",\n",
       " 'I know. I know, I more Oh. Oh my god.',\n",
       " 'Yeah, it was a super bomber, we went down in the basement, watch the movies after that.',\n",
       " 'No. Yeah.',\n",
       " 'Yeah the hopefully next year will be better though like you said.',\n",
       " \"Yeah. Oh my God. Yes. Yes. I have to believe that's the only thing that like, you know, whatever I get bummed about how things are, you know, going now, I always just think like, you know what, Okay, fine.\",\n",
       " 'Oh.',\n",
       " 'So my birthday was spent alone at home like in quarantine, but next year my birthday is going to be a rager.',\n",
       " 'Mhm. Mhm.',\n",
       " \"Okay, so we couldn't go watch, you know, fourth of july fireworks and have a barbecue with the family, like we normally do every year, that's fine next year it's going to be insane, you know? And so I just keep like planning increasingly elaborate celebrations for next year. But yeah, like Halloween is going to be really intense warehouse next year. It's going to be full on total Jurassic park.\",\n",
       " 'Mhm.',\n",
       " \"I'm gonna see if I could have some friends come over and like get them some of those, you know, inflatable dinosaur costumes like rapture paddock.\",\n",
       " 'Yes.',\n",
       " \"It's just, I don't know, it's going to be intense.\",\n",
       " 'Oh and Mhm.',\n",
       " \"That's all I can say. I'm going to throw a lot of time money and energy into it because I have to make up for how terrible this year has been and I will do it.\",\n",
       " 'Yeah.',\n",
       " \"I'm willing to do it. Yeah. Yeah.\",\n",
       " \"Yeah that's kind of our plan is next year we're just gonna have to live two years and one and cram as much as we can in that one year.\",\n",
       " \"Yeah, that sounds all right. No, that's why I really like that lived two years and one that's really cool. I've never thought of it that way. I really like that actually. That's kind of mhm mm.\",\n",
       " \"Well we missed over a lot of stuff. We didn't get to take the trips that we normally take with the kids and it's like well next year we're gonna we're gonna make we have plans to go to florida in March whether it happens or not. I don't know. But we're like all right let's do something bigger than we would normally do just because the kid, the oldest kid was kind of bummed out because we always we go to the Wisconsin Dells which is just big water park and they got tons of stuff there for kids and we had it booked for april and had to cancel like a week before.\",\n",
       " \"Yeah. Oh yeah. Oh my god, I just, you know, I it's like tough as it's been for adults, man, it has made me feel like, you know, like slightly fortunate, like, you know, at least, you know, we're not teachers and at least, you know, we don't have like kids right in the middle of all of this, I can't even imagine what it's like for you as a parent right now with everything, because yeah, I mean your your oldest would be doing school right now, so are you guys doing the online learning thing?\",\n",
       " 'Okay. Mhm. Oh yeah. Well they are now, it started.',\n",
       " 'Yeah.',\n",
       " \"No, she got an email today saying that they're done with school. So the oldest stat is lets just say less than a stellar person. I would have preferred to keep them out just for the time being until things can get under control. But it is what it is, but now they've had so many cases that are local school that the school has said we are shutting down. So right, so her last day I believe was today.\",\n",
       " \"Oh, man. Oh no, God, you know, it's like, yeah, it sucks because, you know, it's the right thing to do, like for the health and safety of everybody, but man, it puts so many parents, like in a tough spot, I'm sure.\",\n",
       " \"Oh yeah. Yeah. What? Right. We're not too bad because my wife works kind of part time and she makes her schedule month a month so she'll be able to schedule around it.\",\n",
       " \"Yeah. Okay, great. Oh, good, you're very lucky, and it's the in daycare.\",\n",
       " \"So we're right, it works alright for us. But I know like one of my coworkers said we don't want to really send our kids back to school, he's like, but we didn't have any other choice because you know, my wife's now back at work and I got to work, so he's like, it was really the only option, you know that our pay for daycare and what's the point at that point?\",\n",
       " 'So insanely expensive, informally expensive.',\n",
       " 'Yeah.',\n",
       " 'My God.',\n",
       " 'Okay.',\n",
       " \"Oh, so my, a good friend of mine actually just moved in uh to house two doors down from MArs, and we're already talking about like how do we want to set up like emergency home schooling pool, like pools, you know, essentially like if, you know, I don't know, it's like we're already like planning for the next pandemic, but that's what happens when you live, like something terrible.\",\n",
       " 'Oh I Okay. Yeah.',\n",
       " \"It's like, okay, how do we prepare for the next one, You know?\",\n",
       " 'Yeah.',\n",
       " \"And so yeah, we're already like, okay, how do we want to handle like, you know, just emergencies, like this again in the future.\",\n",
       " \"Well yeah, just in our area, it's been pretty bad.\",\n",
       " 'But so is that like, was like statewide that all schools or is it just in your area or? Okay.',\n",
       " \"Uh We live in kind of a rural part of Wisconsin, so a lot of people have kind of brushed it aside and so I knew it was going to hit here eventually because everybody's kind of ignored it and it's been hitting pretty hard lately.\",\n",
       " 'Yeah. Yeah. Yeah. Oh, that sucks. That sucks. Yeah.',\n",
       " 'Yeah.',\n",
       " 'Herrin des Moines, like all the hospital beds are full here in Des Moines and yeah, which is like horrifying to think about.',\n",
       " 'Yeah. From.',\n",
       " 'And so one of my, one of my closest and dearest friends um is a nurse at one of the largest hospitals here in Des Moines and she is ah horribly overworked and horribly underappreciated.',\n",
       " 'Right. Oh I Mhm.',\n",
       " \"So I actually, I, after work, I dropped off some like little adult adult lunchables, like snack packs that I made for her, because just to make sure that she's eating, like, this is how, you know, Midwesterners, we show our love, our love languages food. And so I, so I dropped off some like, you know, some soup and some little like lunchables kits and that sort of thing for her.\",\n",
       " 'Well, yeah.',\n",
       " \"Um but and I made a promise to, I said I'm going to do everything I can to stay out of the hospital for any reason whatsoever, so you don't have to worry about me.\",\n",
       " 'Oh, mm.',\n",
       " \"And I was like, I'm gonna wrap myself in pillows and in bubble wrap. And now I got a phone hook up, like, this is gonna be great, like, I'm gonna, you know?\",\n",
       " 'Yeah.',\n",
       " \"And she's like, I appreciate that actually. And thank you like, yes, please do what you can stay out of the hospital for any reason right now. I can't even imagine. It just feels like we're kind of on this weird little little edge and everyone's like kind of like nervously laughing, you know?\",\n",
       " 'Yeah.',\n",
       " \"And like kind of hoping that it'll all go away and you know?\",\n",
       " 'What?',\n",
       " \"But yeah, I don't know. I just work and home and grocery store, like that's those are the only Yeah, yeah, those are the only places I've been.\",\n",
       " 'Yeah. Yeah. Uh huh.',\n",
       " 'Uh Yeah, for like months now. Yes. Kind of driving me crazy. But yeah, yeah, I want to, I want to go enjoy my breweries again.',\n",
       " 'Yeah, 100% agree. I want to get out. I want to do things again. Right. Right.',\n",
       " 'Like I just uh, the only thing I want is to go to Peace Tree Brewery in the east village of Des Moines.',\n",
       " 'Oh who?',\n",
       " \"And I want to get there 10 ft 10 like double I. P. A. That's all I want. I can even picture the glass it comes in. It's like at all that I want. I just want to go there and I want to go to molly's cupcakes right next door and get a cupcake and have my, you know, Imperial M.\",\n",
       " 'Yeah.',\n",
       " \"P. A. W. P. A. And just and just sit there for an afternoon. That's all I want.\",\n",
       " 'Mhm. Yeah. Yeah.',\n",
       " \"That's it.\",\n",
       " 'Yeah.',\n",
       " \"The only other thing uh movie theater that's probably actually I take it all back.\",\n",
       " 'Yeah. Yeah. Yeah.',\n",
       " \"The number one thing I miss is going to a movie theater because that's my guilty pleasure is to go see a movie by myself and like not even with my partner because like I love him very much.\",\n",
       " 'Well yeah. Uh huh.',\n",
       " \"I love him dearly, you know whatever. But if we go to a movie that's even like slightly, you know tense or suspenseful at all, he always likes to try and scare me while I'm in the movie and it just pisses me off so that, so I have to, I love going to go see a movie just by myself and need a whole bag of popcorn by myself and the two theaters I go to the most also serve craft beer.\",\n",
       " 'Mhm.',\n",
       " \"So I'm like, yes.\",\n",
       " 'Oh nice.',\n",
       " \"Yeah, it's awesome.\",\n",
       " 'Come on. Yeah.',\n",
       " \"It's the best. It is really, really cool. So oh my God, I'm sorry.\",\n",
       " 'What a lot of no.',\n",
       " 'Here I am like talking all the things I want to do as soon as the pandemics over.',\n",
       " \"Yeah. Uh huh. I feel the same way I am just so crazy that it's like come 2021 like I have to get out.\",\n",
       " 'Yes. Right. Yeah. We got a live few years and one.',\n",
       " \"Mhm That's right.\",\n",
       " \"I like that we're going to live to new.\",\n",
       " 'I hope things we got a couple of months. Hopefully things will get better before things get much worse.',\n",
       " 'I believe it. I believe it. Okay. I have officially talked your ear off longer than the study is like accounted for us.',\n",
       " 'Yeah. Okay.',\n",
       " 'So are you apologize?',\n",
       " 'Okay.',\n",
       " \"I'm sorry. It's just really nice.\",\n",
       " \"No mm Yeah that's why I don't mind these.\",\n",
       " 'Another human being.',\n",
       " \"I've done a few of them and I would recommend because you're allowed to do a certain amount. So I would recommend to you I am at my limit now this is the last one I can do until they have another batch. So I think I think this is number seven but I like doing these things.\",\n",
       " 'Oh really? Oh, Oh, Oh man.',\n",
       " \"I don't mind them at all. So I would recommend you do as many of them as you can. They don't tell you when your limit is. You just got to kind of keep track of them. But if you enjoyed it I would recommend sign up for him. I have had some interesting conversations.\",\n",
       " 'Shoot.',\n",
       " 'Mhm.',\n",
       " 'And I know this is your seventh. What? I totally just let have asked you about your other seven conversations. I would have been like, okay dish, dish, tell me everything.',\n",
       " 'Yeah.',\n",
       " 'Oh well this has been really, really fun.',\n",
       " 'Yeah.',\n",
       " 'This has been a great combo.',\n",
       " 'Oh yeah.',\n",
       " \"It's been really nice to get to meet another fellow midwesterner and this is like a nice little nice little highlight of my week.\",\n",
       " 'Yeah.',\n",
       " 'So thank you.',\n",
       " 'Yeah I get to enjoy your day evening.',\n",
       " 'Yes, you too. Have a good night.',\n",
       " 'Yeah. Yeah.',\n",
       " 'But']"
      ]
     },
     "execution_count": 21,
     "metadata": {},
     "output_type": "execute_result"
    }
   ],
   "source": [
    "candor_single_csv_data['train']['utterance']"
   ]
  },
  {
   "cell_type": "code",
   "execution_count": 23,
   "metadata": {},
   "outputs": [],
   "source": [
    "def put_data_into_splits(data, train=0.8, val=0.1, test=0.1):\n",
    "    # (.train_test_split shuffles by default)\n",
    "    train_valtest = data['train'].train_test_split(test_size = 1 - train)\n",
    "    test_valid = train_valtest['test'].train_test_split(test_size = test / (val + test))\n",
    "    out = DatasetDict({\n",
    "            'train': train_valtest['train'],\n",
    "            'val': test_valid['train'],\n",
    "            'test': test_valid['test']\n",
    "        })\n",
    "    return out"
   ]
  },
  {
   "cell_type": "code",
   "execution_count": 24,
   "metadata": {},
   "outputs": [
    {
     "data": {
      "text/plain": [
       "DatasetDict({\n",
       "    train: Dataset({\n",
       "        features: ['turn_id', 'speaker', 'start', 'stop', 'utterance', 'interval', 'delta', 'questions', 'end_question', 'overlap', 'n_words'],\n",
       "        num_rows: 260\n",
       "    })\n",
       "    val: Dataset({\n",
       "        features: ['turn_id', 'speaker', 'start', 'stop', 'utterance', 'interval', 'delta', 'questions', 'end_question', 'overlap', 'n_words'],\n",
       "        num_rows: 32\n",
       "    })\n",
       "    test: Dataset({\n",
       "        features: ['turn_id', 'speaker', 'start', 'stop', 'utterance', 'interval', 'delta', 'questions', 'end_question', 'overlap', 'n_words'],\n",
       "        num_rows: 33\n",
       "    })\n",
       "})"
      ]
     },
     "execution_count": 24,
     "metadata": {},
     "output_type": "execute_result"
    }
   ],
   "source": [
    "example_split_test = put_data_into_splits(candor_single_csv_data)\n",
    "example_split_test"
   ]
  },
  {
   "cell_type": "markdown",
   "metadata": {},
   "source": [
    "## Tokenize CANDOR"
   ]
  },
  {
   "cell_type": "code",
   "execution_count": 28,
   "metadata": {},
   "outputs": [],
   "source": [
    "from transformers import GPT2TokenizerFast, GPT2Config, GPT2LMHeadModel\n",
    "from transformers import DataCollatorForLanguageModeling\n",
    "from transformers import Trainer, TrainingArguments"
   ]
  },
  {
   "cell_type": "code",
   "execution_count": 29,
   "metadata": {},
   "outputs": [],
   "source": [
    "tokenizer = GPT2TokenizerFast.from_pretrained(\"gpt2\")\n",
    "context_length = 1024"
   ]
  },
  {
   "cell_type": "code",
   "execution_count": 30,
   "metadata": {},
   "outputs": [
    {
     "name": "stdout",
     "output_type": "stream",
     "text": [
      "Vocabulary size: 50257\n",
      "Max Model Input Sizes: 1024\n",
      "Padding token: None\n",
      "Special tokens: ['<|endoftext|>']\n"
     ]
    }
   ],
   "source": [
    "print(\"Vocabulary size:\", tokenizer.vocab_size)\n",
    "print(\"Max Model Input Sizes:\", tokenizer.model_max_length)\n",
    "print(\"Padding token:\", tokenizer.pad_token)\n",
    "print(\"Special tokens:\", tokenizer.all_special_tokens)"
   ]
  },
  {
   "cell_type": "code",
   "execution_count": 31,
   "metadata": {},
   "outputs": [],
   "source": [
    "tokenized_data_path = '../data/candor/tokens_sentence/sample/'"
   ]
  },
  {
   "cell_type": "code",
   "execution_count": 32,
   "metadata": {},
   "outputs": [
    {
     "data": {
      "application/vnd.jupyter.widget-view+json": {
       "model_id": "13bdae4ef7c44b77ac2c5c4649fa5efd",
       "version_major": 2,
       "version_minor": 0
      },
      "text/plain": [
       "Map:   0%|          | 0/260 [00:00<?, ? examples/s]"
      ]
     },
     "metadata": {},
     "output_type": "display_data"
    },
    {
     "data": {
      "application/vnd.jupyter.widget-view+json": {
       "model_id": "62b811d2cf5c41078746b826679bf67d",
       "version_major": 2,
       "version_minor": 0
      },
      "text/plain": [
       "Map:   0%|          | 0/32 [00:00<?, ? examples/s]"
      ]
     },
     "metadata": {},
     "output_type": "display_data"
    },
    {
     "data": {
      "application/vnd.jupyter.widget-view+json": {
       "model_id": "c200160fbff049ec9b86c7295c16fab5",
       "version_major": 2,
       "version_minor": 0
      },
      "text/plain": [
       "Map:   0%|          | 0/33 [00:00<?, ? examples/s]"
      ]
     },
     "metadata": {},
     "output_type": "display_data"
    },
    {
     "data": {
      "application/vnd.jupyter.widget-view+json": {
       "model_id": "8ab03a021ea34f37b030f2fb3390a0c8",
       "version_major": 2,
       "version_minor": 0
      },
      "text/plain": [
       "Saving the dataset (0/1 shards):   0%|          | 0/260 [00:00<?, ? examples/s]"
      ]
     },
     "metadata": {},
     "output_type": "display_data"
    },
    {
     "data": {
      "application/vnd.jupyter.widget-view+json": {
       "model_id": "ab1235a015704e67bd030cb4de30a7b9",
       "version_major": 2,
       "version_minor": 0
      },
      "text/plain": [
       "Saving the dataset (0/1 shards):   0%|          | 0/32 [00:00<?, ? examples/s]"
      ]
     },
     "metadata": {},
     "output_type": "display_data"
    },
    {
     "data": {
      "application/vnd.jupyter.widget-view+json": {
       "model_id": "fc235a5af9a0400fa32def5a40d00141",
       "version_major": 2,
       "version_minor": 0
      },
      "text/plain": [
       "Saving the dataset (0/1 shards):   0%|          | 0/33 [00:00<?, ? examples/s]"
      ]
     },
     "metadata": {},
     "output_type": "display_data"
    }
   ],
   "source": [
    "# Tokenize:\n",
    "encoded_datasets = example_split_test.map(\n",
    "    lambda sentence: tokenizer(\n",
    "        sentence['utterance'],\n",
    "        truncation=True,\n",
    "        max_length=context_length,\n",
    "        return_overflowing_tokens=True,\n",
    "        return_length=True,\n",
    "        ), \n",
    "    batched=True)\n",
    "encoded_datasets.save_to_disk(tokenized_data_path)"
   ]
  },
  {
   "cell_type": "code",
   "execution_count": 33,
   "metadata": {},
   "outputs": [],
   "source": [
    "# Load pretokenized data:\n",
    "encoded_datasets = load_from_disk(tokenized_data_path)"
   ]
  },
  {
   "cell_type": "code",
   "execution_count": 35,
   "metadata": {},
   "outputs": [
    {
     "name": "stdout",
     "output_type": "stream",
     "text": [
      "DatasetDict({\n",
      "    train: Dataset({\n",
      "        features: ['turn_id', 'speaker', 'start', 'stop', 'utterance', 'interval', 'delta', 'questions', 'end_question', 'overlap', 'n_words', 'input_ids', 'attention_mask', 'length', 'overflow_to_sample_mapping'],\n",
      "        num_rows: 260\n",
      "    })\n",
      "    val: Dataset({\n",
      "        features: ['turn_id', 'speaker', 'start', 'stop', 'utterance', 'interval', 'delta', 'questions', 'end_question', 'overlap', 'n_words', 'input_ids', 'attention_mask', 'length', 'overflow_to_sample_mapping'],\n",
      "        num_rows: 32\n",
      "    })\n",
      "    test: Dataset({\n",
      "        features: ['turn_id', 'speaker', 'start', 'stop', 'utterance', 'interval', 'delta', 'questions', 'end_question', 'overlap', 'n_words', 'input_ids', 'attention_mask', 'length', 'overflow_to_sample_mapping'],\n",
      "        num_rows: 33\n",
      "    })\n",
      "})\n",
      "{'turn_id': 213, 'speaker': '5a73899f9cdd1800017786f0', 'start': 2113.43, 'stop': 2128.75, 'utterance': \"And I was like well we don't know what our test results are, I don't want to go hand out some candy to this kid so like we had to just ignore it and I felt so horrible just because what do I I couldn't open the door and hey kid I might have to get out of here.\", 'interval': 0.7599999999997635, 'delta': 15.320000000000164, 'questions': 0, 'end_question': False, 'overlap': False, 'n_words': 62, 'input_ids': [1870, 314, 373, 588, 880, 356, 836, 470, 760, 644, 674, 1332, 2482, 389, 11, 314, 836, 470, 765, 284, 467, 1021, 503, 617, 18550, 284, 428, 5141, 523, 588, 356, 550, 284, 655, 8856, 340, 290, 314, 2936, 523, 12361, 655, 780, 644, 466, 314, 314, 3521, 470, 1280, 262, 3420, 290, 17207, 5141, 314, 1244, 423, 284, 651, 503, 286, 994, 13], 'attention_mask': [1, 1, 1, 1, 1, 1, 1, 1, 1, 1, 1, 1, 1, 1, 1, 1, 1, 1, 1, 1, 1, 1, 1, 1, 1, 1, 1, 1, 1, 1, 1, 1, 1, 1, 1, 1, 1, 1, 1, 1, 1, 1, 1, 1, 1, 1, 1, 1, 1, 1, 1, 1, 1, 1, 1, 1, 1, 1, 1, 1, 1, 1, 1, 1], 'length': 64, 'overflow_to_sample_mapping': 0}\n"
     ]
    }
   ],
   "source": [
    "print(encoded_datasets)\n",
    "print(encoded_datasets['train'][0])\n",
    "# input_ids is key column"
   ]
  },
  {
   "cell_type": "markdown",
   "metadata": {},
   "source": [
    "## Finetune pretrained model on CANDOR"
   ]
  },
  {
   "cell_type": "code",
   "execution_count": null,
   "metadata": {},
   "outputs": [],
   "source": [
    "trained_model = GPT2LMHeadModel.from_pretrained(\"gpt2\")"
   ]
  },
  {
   "cell_type": "code",
   "execution_count": null,
   "metadata": {},
   "outputs": [],
   "source": [
    "import accelerate\n",
    "import transformers\n",
    "\n",
    "transformers.__version__, accelerate.__version__"
   ]
  },
  {
   "cell_type": "code",
   "execution_count": null,
   "metadata": {},
   "outputs": [],
   "source": [
    "import torch\n",
    "torch.cuda.is_available()\n",
    "torch.cuda.get_device_name(0)"
   ]
  },
  {
   "cell_type": "code",
   "execution_count": null,
   "metadata": {},
   "outputs": [],
   "source": [
    "training_output_dir = '../models/candor_finetuned/test1'\n",
    "args = TrainingArguments(\n",
    "    training_output_dir,\n",
    "    per_device_train_batch_size=32, # change to fit GPU specs\n",
    "    per_device_eval_batch_size=32,\n",
    "    evaluation_strategy='epoch',\n",
    "    eval_steps=0.25,\n",
    "    logging_steps=0.25,\n",
    "    save_strategy='epoch',\n",
    "    save_steps=0.25,\n",
    "    group_by_length=True, # bucketing\n",
    "    load_best_model_at_end=True,\n",
    "    metric_for_best_model='loss',\n",
    "    greater_is_better=False,\n",
    "    save_total_limit=3,\n",
    "    num_train_epochs=1,\n",
    ")"
   ]
  },
  {
   "cell_type": "code",
   "execution_count": null,
   "metadata": {},
   "outputs": [],
   "source": [
    "args.device"
   ]
  },
  {
   "cell_type": "code",
   "execution_count": null,
   "metadata": {},
   "outputs": [],
   "source": [
    "trainer = Trainer(\n",
    "    model=trained_model,\n",
    "    tokenizer=tokenizer,\n",
    "    args=args,\n",
    "    data_collator=data_collator,\n",
    "    train_dataset=tokenized_datasets['train'],\n",
    "    eval_dataset=tokenized_datasets['val'],\n",
    ")"
   ]
  },
  {
   "cell_type": "code",
   "execution_count": null,
   "metadata": {},
   "outputs": [],
   "source": [
    "trainer.train(\n",
    "    # resume_from_checkpoint=True\n",
    ")"
   ]
  }
 ],
 "metadata": {
  "kernelspec": {
   "display_name": "venv",
   "language": "python",
   "name": "python3"
  },
  "language_info": {
   "codemirror_mode": {
    "name": "ipython",
    "version": 3
   },
   "file_extension": ".py",
   "mimetype": "text/x-python",
   "name": "python",
   "nbconvert_exporter": "python",
   "pygments_lexer": "ipython3",
   "version": "3.11.6"
  }
 },
 "nbformat": 4,
 "nbformat_minor": 2
}
