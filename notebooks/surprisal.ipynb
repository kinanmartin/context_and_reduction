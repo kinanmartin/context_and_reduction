{
 "cells": [
  {
   "cell_type": "code",
   "execution_count": 4,
   "metadata": {},
   "outputs": [
    {
     "name": "stdout",
     "output_type": "stream",
     "text": [
      "       The       Ġcat        Ġis        Ġon       Ġthe       Ġmat <|endoftex <|endoftex <|endoftex <|endoftex \n",
      "     3.276      9.222      2.463      4.145      0.961      7.237        inf        inf        inf        inf \n",
      "       The       Ġcat        Ġis        Ġon       Ġthe       Ġhat <|endoftex <|endoftex <|endoftex <|endoftex \n",
      "     3.276      9.222      2.463      4.145      0.961      9.955        inf        inf        inf        inf \n",
      "       The       Ġcat        Ġis        Ġon       Ġthe     Ġpizza <|endoftex <|endoftex <|endoftex <|endoftex \n",
      "     3.276      9.222      2.463      4.145      0.961      8.212        inf        inf        inf        inf \n",
      "       The     Ġpizza        Ġis        Ġon       Ġthe       Ġmat <|endoftex <|endoftex <|endoftex <|endoftex \n",
      "     3.276     10.860      3.212      4.910      0.985      8.379        inf        inf        inf        inf \n",
      "         I      Ġtold       Ġyou      Ġthat       Ġthe       Ġcat        Ġis        Ġon       Ġthe       Ġmat \n",
      "     3.998      6.856      0.619      2.443      2.711      7.955      2.596      4.804      1.139      6.946 \n",
      "         I      Ġtold       Ġyou       Ġthe       Ġcat        Ġis        Ġon       Ġthe       Ġmat <|endoftex \n",
      "     3.998      6.856      0.619      4.115      7.612      3.031      4.817      1.233      7.033        inf \n"
     ]
    }
   ],
   "source": [
    "from surprisal import AutoHuggingFaceModel#, KenLMModel\n",
    "\n",
    "sentences = [\n",
    "    \"The cat is on the mat\",\n",
    "    \"The cat is on the hat\",\n",
    "    \"The cat is on the pizza\",\n",
    "    \"The pizza is on the mat\",\n",
    "    \"I told you that the cat is on the mat\",\n",
    "    \"I told you the cat is on the mat\",\n",
    "]\n",
    "\n",
    "m = AutoHuggingFaceModel.from_pretrained('gpt2')\n",
    "# m.to('cuda') # optionally move your model to GPU!\n",
    "\n",
    "# k = KenLMModel(model_path='./literature.arpa')\n",
    "\n",
    "for result in m.surprise(sentences):\n",
    "    print(result)\n",
    "# for result in k.surprise(sentences):\n",
    "#     print(result)"
   ]
  }
 ],
 "metadata": {
  "kernelspec": {
   "display_name": "venv",
   "language": "python",
   "name": "python3"
  },
  "language_info": {
   "codemirror_mode": {
    "name": "ipython",
    "version": 3
   },
   "file_extension": ".py",
   "mimetype": "text/x-python",
   "name": "python",
   "nbconvert_exporter": "python",
   "pygments_lexer": "ipython3",
   "version": "3.11.6"
  }
 },
 "nbformat": 4,
 "nbformat_minor": 2
}
