{
 "cells": [
  {
   "cell_type": "code",
   "execution_count": 2,
   "metadata": {},
   "outputs": [
    {
     "name": "stderr",
     "output_type": "stream",
     "text": [
      "huggingface/tokenizers: The current process just got forked, after parallelism has already been used. Disabling parallelism to avoid deadlocks...\n",
      "To disable this warning, you can either:\n",
      "\t- Avoid using `tokenizers` before the fork if possible\n",
      "\t- Explicitly set the environment variable TOKENIZERS_PARALLELISM=(true | false)\n",
      "huggingface/tokenizers: The current process just got forked, after parallelism has already been used. Disabling parallelism to avoid deadlocks...\n",
      "To disable this warning, you can either:\n",
      "\t- Avoid using `tokenizers` before the fork if possible\n",
      "\t- Explicitly set the environment variable TOKENIZERS_PARALLELISM=(true | false)\n"
     ]
    },
    {
     "name": "stdout",
     "output_type": "stream",
     "text": [
      "       The       Ġcat        Ġis        Ġon       Ġthe       Ġmat <|endoftex <|endoftex <|endoftex <|endoftex \n",
      "     3.276      9.222      2.463      4.145      0.961      7.237        inf        inf        inf        inf \n",
      "       The       Ġcat        Ġis        Ġon       Ġthe       Ġhat <|endoftex <|endoftex <|endoftex <|endoftex \n",
      "     3.276      9.222      2.463      4.145      0.961      9.955        inf        inf        inf        inf \n",
      "       The       Ġcat        Ġis        Ġon       Ġthe     Ġpizza <|endoftex <|endoftex <|endoftex <|endoftex \n",
      "     3.276      9.222      2.463      4.145      0.961      8.212        inf        inf        inf        inf \n",
      "       The     Ġpizza        Ġis        Ġon       Ġthe       Ġmat <|endoftex <|endoftex <|endoftex <|endoftex \n",
      "     3.276     10.860      3.212      4.910      0.985      8.379        inf        inf        inf        inf \n",
      "         I      Ġtold       Ġyou      Ġthat       Ġthe       Ġcat        Ġis        Ġon       Ġthe       Ġmat \n",
      "     3.998      6.856      0.619      2.443      2.711      7.955      2.596      4.804      1.139      6.946 \n",
      "         I      Ġtold       Ġyou       Ġthe       Ġcat        Ġis        Ġon       Ġthe       Ġmat <|endoftex \n",
      "     3.998      6.856      0.619      4.115      7.613      3.032      4.817      1.233      7.033        inf \n"
     ]
    }
   ],
   "source": [
    "from surprisal import AutoHuggingFaceModel#, KenLMModel\n",
    "\n",
    "sentences = [\n",
    "    \"The cat is on the mat\",\n",
    "    \"The cat is on the hat\",\n",
    "    \"The cat is on the pizza\",\n",
    "    \"The pizza is on the mat\",\n",
    "    \"I told you that the cat is on the mat\",\n",
    "    \"I told you the cat is on the mat\",\n",
    "]\n",
    "\n",
    "m = AutoHuggingFaceModel.from_pretrained('gpt2')\n",
    "m.to('cuda') # optionally move your model to GPU!\n",
    "\n",
    "# k = KenLMModel(model_path='./literature.arpa')\n",
    "\n",
    "for result in m.surprise(sentences):\n",
    "    print(result)\n",
    "# for result in k.surprise(sentences):\n",
    "#     print(result)"
   ]
  },
  {
   "cell_type": "code",
   "execution_count": 7,
   "metadata": {},
   "outputs": [
    {
     "name": "stdout",
     "output_type": "stream",
     "text": [
      "       The       Ġcat        Ġis        Ġon       Ġthe       Ġmat <|endoftex <|endoftex <|endoftex <|endoftex \n",
      "     9.743      9.070      3.143      4.345      0.866      8.086        inf        inf        inf        inf \n",
      "       The       Ġcat        Ġis        Ġon       Ġthe       Ġhat <|endoftex <|endoftex <|endoftex <|endoftex \n",
      "     9.743      9.070      3.143      4.345      0.866      8.519        inf        inf        inf        inf \n",
      "       The       Ġcat        Ġis        Ġon       Ġthe     Ġpizza <|endoftex <|endoftex <|endoftex <|endoftex \n",
      "     9.743      9.070      3.143      4.345      0.866     10.619        inf        inf        inf        inf \n",
      "       The     Ġpizza        Ġis        Ġon       Ġthe       Ġmat <|endoftex <|endoftex <|endoftex <|endoftex \n",
      "     9.743     10.859      2.769      4.670      0.964      8.043        inf        inf        inf        inf \n",
      "         I      Ġtold       Ġyou      Ġthat       Ġthe       Ġcat        Ġis        Ġon       Ġthe       Ġmat \n",
      "     7.199      7.392      1.506      1.694      2.961      9.063      2.165      4.035      0.886      8.100 \n",
      "         I      Ġtold       Ġyou       Ġthe       Ġcat        Ġis        Ġon       Ġthe       Ġmat <|endoftex \n",
      "     7.199      7.392      1.506      3.301     10.068      2.185      4.000      0.833      8.172        inf \n"
     ]
    }
   ],
   "source": [
    "trained_model = AutoHuggingFaceModel.from_pretrained(\"../models/test2/checkpoint-37500\",\n",
    "                                                     model_class='gpt')\n",
    "# note: ensure tokenizer's settings match my pretrained models' tokenizer!\n",
    "trained_model.to('cuda') # optionally move your model to GPU!\n",
    "\n",
    "for result in trained_model.surprise(sentences):\n",
    "    print(result)"
   ]
  },
  {
   "cell_type": "markdown",
   "metadata": {},
   "source": [
    "### from CANDOR"
   ]
  },
  {
   "cell_type": "code",
   "execution_count": 9,
   "metadata": {},
   "outputs": [
    {
     "name": "stdout",
     "output_type": "stream",
     "text": [
      "[    thanks          ,      ĠTiny      Ġfirm    Ġsponge          .         ĠI     Ġswear      Ġthat         's      Ġthat         's      Ġwhat      Ġkids        Ġdo          ,      Ġthey        're      Ġjust      Ġkind        Ġof      Ġlike       Ġyou      Ġknow          ,     Ġmeant        Ġto      Ġsort        Ġof    Ġspread       Ġger         ms       Ġand   Ġviruses Ġeverywher          ,       Ġbut      Ġthey        're        Ġso      Ġcute          ,      Ġthey        Ġdo      Ġsuch         Ġa      Ġgood       Ġjob        Ġof        Ġit          .      ĠYeah          .        ĠOh \n",
      "    19.769      8.289     11.814     14.524     13.616      2.981      8.652      7.512      1.739      9.959     10.122      9.313     12.321      8.123      2.100     11.498     15.519      9.982      9.747      5.553      0.002      2.775      3.819      5.234     14.472     15.391      1.076      6.508      0.045      7.980      9.645      0.691      1.793      8.312      8.174     14.419     19.620      2.576      7.880      8.425      6.878     13.036     16.433      2.207      9.493      0.477      2.801      1.165      2.935      4.413      4.001      6.628      4.658      5.548 ]\n",
      "[    thanks          ,      ĠTiny      Ġfirm    Ġsponge          .         ĠI     Ġswear      Ġthat         's      Ġthat         's      Ġwhat      Ġkids        Ġdo          ,      Ġthey        're      Ġjust      Ġkind        Ġof      Ġlike       Ġyou      Ġknow          ,     Ġmeant        Ġto      Ġsort        Ġof    Ġspread       Ġger         ms       Ġand   Ġviruses Ġeverywher          ,       Ġbut      Ġthey        're        Ġso      Ġcute          ,      Ġthey        Ġdo      Ġsuch         Ġa      Ġgood       Ġjob        Ġof        Ġit          .      ĠYeah          .        ĠOh \n",
      "    10.819      3.757     10.579     12.847     13.601      3.259      2.661      7.568      3.530      2.710      6.685      5.622      1.550      8.779      1.254      2.644      3.006      2.679      3.141      5.658      0.030      2.840      4.034      5.627      1.056     11.363      0.451      7.561      0.145      6.855      6.165      0.020      1.941      6.166      4.693      1.969      2.235      2.159      1.118      3.486      2.890      1.936      1.859      4.659      5.742      0.229      1.525      0.022      0.797      1.946      0.692      5.886      2.469      4.730 ]\n"
     ]
    }
   ],
   "source": [
    "text = \"thanks, Tiny firm sponge. I swear that's that's what kids do, they're just kind of like you know, meant to sort of spread germs and viruses everywhere, but they're so cute, they do such a good job of it. Yeah. Oh\"\n",
    "print(trained_model.surprise(text))\n",
    "print(m.surprise(text))"
   ]
  }
 ],
 "metadata": {
  "kernelspec": {
   "display_name": "venv",
   "language": "python",
   "name": "python3"
  },
  "language_info": {
   "codemirror_mode": {
    "name": "ipython",
    "version": 3
   },
   "file_extension": ".py",
   "mimetype": "text/x-python",
   "name": "python",
   "nbconvert_exporter": "python",
   "pygments_lexer": "ipython3",
   "version": "3.12.2"
  }
 },
 "nbformat": 4,
 "nbformat_minor": 2
}
