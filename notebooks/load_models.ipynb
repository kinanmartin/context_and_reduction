{
 "cells": [
  {
   "cell_type": "markdown",
   "metadata": {},
   "source": [
    "# Loading models from **transformers** library"
   ]
  },
  {
   "cell_type": "code",
   "execution_count": null,
   "metadata": {},
   "outputs": [],
   "source": [
    "import os\n",
    "import transformers\n",
    "from transformers import BertTokenizer, BertForMaskedLM, GPT2Tokenizer\n",
    "import pandas as pd\n",
    "import numpy as np\n",
    "# import surprisal\n",
    "# from surprisal import AutoHuggingFaceModel\n"
   ]
  },
  {
   "cell_type": "code",
   "execution_count": null,
   "metadata": {},
   "outputs": [],
   "source": [
    "def load_BERT(model_path):\n",
    "\n",
    "    model = BertForMaskedLM.from_pretrained(model_path)\n",
    "    model.eval()\n",
    "    \n",
    "    tokenizer = BertTokenizer.from_pretrained(model_path)\n",
    "\n",
    "\n",
    "    model_info = {\n",
    "        'model': model,\n",
    "        'tokenizer': tokenizer\n",
    "    }\n",
    "    return model_info"
   ]
  },
  {
   "cell_type": "code",
   "execution_count": null,
   "metadata": {},
   "outputs": [],
   "source": [
    "def load_GPT2(model_path):\n",
    "\n",
    "    model = AutoHuggingFaceModel.from_pretrained(model_path)\n",
    "    model.eval()\n",
    "    \n",
    "    tokenizer = GPT2Tokenizer.from_pretrained(model_path)\n",
    "\n",
    "    model_info = {\n",
    "        'model': model,\n",
    "        'tokenizer': tokenizer\n",
    "    }\n",
    "    return "
   ]
  }
 ],
 "metadata": {
  "kernelspec": {
   "display_name": "Python 3",
   "language": "python",
   "name": "python3"
  },
  "language_info": {
   "name": "python",
   "version": "3.11.6"
  }
 },
 "nbformat": 4,
 "nbformat_minor": 2
}
