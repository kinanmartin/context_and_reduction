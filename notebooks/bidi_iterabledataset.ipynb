{
 "cells": [
  {
   "cell_type": "code",
   "execution_count": 1,
   "metadata": {},
   "outputs": [],
   "source": [
    "from datasets import load_from_disk\n",
    "from transformers import GPT2LMHeadModel, GPT2Config, GPT2TokenizerFast, DataCollatorForLanguageModeling\n",
    "import torch"
   ]
  },
  {
   "cell_type": "code",
   "execution_count": 2,
   "metadata": {},
   "outputs": [],
   "source": [
    "from datasets import disable_caching\n",
    "disable_caching()"
   ]
  },
  {
   "cell_type": "code",
   "execution_count": null,
   "metadata": {},
   "outputs": [],
   "source": [
    "# model_dir = \"models/script1/left_sentence/checkpoint-75047\"\n",
    "# # model_dir = \"gpt2\"\n",
    "# tokenizer_name = \"gpt2\"\n",
    "\n",
    "# model = load_pretrained_model(model_dir)\n",
    "# tokenizer = load_pretrained_tokenizer(tokenizer_name)\n",
    "# data_collator = init_data_collator(tokenizer, 'left')"
   ]
  },
  {
   "cell_type": "code",
   "execution_count": 5,
   "metadata": {},
   "outputs": [],
   "source": [
    "tokenized_testset_dir = \"../data/coca_spoken/tokens_sentence/test\"\n",
    "test_set = load_from_disk(tokenized_testset_dir)\n",
    "# test_set = test_set.remove_columns('text')"
   ]
  },
  {
   "cell_type": "code",
   "execution_count": 6,
   "metadata": {},
   "outputs": [
    {
     "data": {
      "text/plain": [
       "Dataset({\n",
       "    features: ['text', 'input_ids', 'attention_mask'],\n",
       "    num_rows: 600372\n",
       "})"
      ]
     },
     "execution_count": 6,
     "metadata": {},
     "output_type": "execute_result"
    }
   ],
   "source": [
    "test_set"
   ]
  },
  {
   "cell_type": "code",
   "execution_count": 8,
   "metadata": {},
   "outputs": [],
   "source": [
    "def load_pretrained_tokenizer(pretrained_model_name_or_path, context=None, add_prefix_space=False):\n",
    "    print(f'Loading pretrained tokenizer from {pretrained_model_name_or_path}...')\n",
    "    tokenizer = GPT2TokenizerFast.from_pretrained(\n",
    "        pretrained_model_name_or_path, \n",
    "        add_prefix_space=add_prefix_space, #?\n",
    "    )\n",
    "\n",
    "    if context == 'bigram':\n",
    "        tokenizer.bos_token = '<s>'\n",
    "        tokenizer.eos_token = '</s>'\n",
    "\n",
    "    tokenizer.pad_token = tokenizer.eos_token # ?\n",
    "    print(\"Vocabulary size:\", tokenizer.vocab_size)\n",
    "    print(\"Max Model Input Sizes:\", tokenizer.model_max_length)\n",
    "    print(\"BOS token:\", tokenizer.bos_token, tokenizer.bos_token_id)\n",
    "    print(\"EOS token:\", tokenizer.eos_token, tokenizer.eos_token_id)\n",
    "    print(\"PAD token:\", tokenizer.pad_token, tokenizer.pad_token_id)\n",
    "    print(\"SEP token:\", tokenizer.sep_token, tokenizer.sep_token_id)\n",
    "    print(\"UNK token:\", tokenizer.unk_token, tokenizer.unk_token_id)\n",
    "    print(\"Special tokens:\", tokenizer.all_special_tokens)\n",
    "    print('...done')\n",
    "    return tokenizer"
   ]
  },
  {
   "cell_type": "code",
   "execution_count": 9,
   "metadata": {},
   "outputs": [],
   "source": [
    "BLANK = '[BLANK]'\n",
    "FILLER = '[FILLER]'\n",
    "SEP = '[SEP]'"
   ]
  },
  {
   "cell_type": "code",
   "execution_count": 11,
   "metadata": {},
   "outputs": [
    {
     "name": "stdout",
     "output_type": "stream",
     "text": [
      "Loading pretrained tokenizer from gpt2...\n",
      "Vocabulary size: 50257\n",
      "Max Model Input Sizes: 1024\n",
      "BOS token: <|endoftext|> 50256\n",
      "EOS token: <|endoftext|> 50256\n",
      "PAD token: <|endoftext|> 50256\n",
      "SEP token: None None\n",
      "UNK token: <|endoftext|> 50256\n",
      "Special tokens: ['<|endoftext|>']\n",
      "...done\n",
      "50257 50258 50259\n"
     ]
    }
   ],
   "source": [
    "tokenizer = load_pretrained_tokenizer('gpt2')\n",
    "num_added_tokens = tokenizer.add_tokens([BLANK, FILLER, SEP])\n",
    "\n",
    "BLANK_id = tokenizer.convert_tokens_to_ids(BLANK)\n",
    "FILLER_id = tokenizer.convert_tokens_to_ids(FILLER)\n",
    "SEP_id = tokenizer.convert_tokens_to_ids(SEP)\n",
    "print(BLANK_id, FILLER_id, SEP_id)"
   ]
  },
  {
   "cell_type": "markdown",
   "metadata": {},
   "source": [
    "## Making an IterableDataset"
   ]
  },
  {
   "cell_type": "code",
   "execution_count": 7,
   "metadata": {},
   "outputs": [],
   "source": [
    "from datasets import IterableDataset"
   ]
  },
  {
   "cell_type": "code",
   "execution_count": 13,
   "metadata": {},
   "outputs": [],
   "source": [
    "def expand_inputs(example):\n",
    "\n",
    "    input_ids = example['input_ids']\n",
    "    # attention_mask = features['attention_mask']\n",
    "\n",
    "    n_tokens = len(input_ids)\n",
    "\n",
    "    bidi_input_ids = [input_ids[:i] + [BLANK_id] + input_ids[i+1:] + [SEP_id, FILLER_id] \n",
    "                    for i in range(n_tokens)]\n",
    "\n",
    "    bidi_attention_mask = [[1 for _ in range(n_tokens + 2)] for _ in range(n_tokens)]\n",
    "\n",
    "    bidi_labels = [[-100 for _ in range(n_tokens + 1)] + [input_ids[i]] \n",
    "                for i in range(n_tokens)]\n",
    "    \n",
    "    for i in range(n_tokens):\n",
    "        bidi_input_ids = input_ids[:i] + [BLANK_id] + input_ids[i+1:] + [SEP_id, FILLER_id]\n",
    "        bidi_attention_mask = [1 for _ in range(n_tokens + 2)]\n",
    "        bidi_labels = [-100 for _ in range(n_tokens + 1)] + [input_ids[i]] \n",
    "        \n",
    "        bidi_input = {\n",
    "            'input_ids': bidi_input_ids,\n",
    "            'attention_mask': bidi_attention_mask,\n",
    "            'labels': bidi_labels\n",
    "        }\n",
    "        yield bidi_input\n",
    "\n",
    "    # return mini_batch"
   ]
  },
  {
   "cell_type": "code",
   "execution_count": 14,
   "metadata": {},
   "outputs": [],
   "source": [
    "def gen_bidi_inputs(dataset):\n",
    "    for example in dataset:\n",
    "        yield from expand_inputs(example)"
   ]
  },
  {
   "cell_type": "code",
   "execution_count": 15,
   "metadata": {},
   "outputs": [
    {
     "name": "stdout",
     "output_type": "stream",
     "text": [
      "{'input_ids': [50257, 705, 82, 1016, 284, 787, 340, 764, 50259, 50258], 'attention_mask': [1, 1, 1, 1, 1, 1, 1, 1, 1, 1], 'labels': [-100, -100, -100, -100, -100, -100, -100, -100, -100, 1544]}\n",
      "{'input_ids': [1544, 50257, 82, 1016, 284, 787, 340, 764, 50259, 50258], 'attention_mask': [1, 1, 1, 1, 1, 1, 1, 1, 1, 1], 'labels': [-100, -100, -100, -100, -100, -100, -100, -100, -100, 705]}\n",
      "{'input_ids': [1544, 705, 50257, 1016, 284, 787, 340, 764, 50259, 50258], 'attention_mask': [1, 1, 1, 1, 1, 1, 1, 1, 1, 1], 'labels': [-100, -100, -100, -100, -100, -100, -100, -100, -100, 82]}\n",
      "{'input_ids': [1544, 705, 82, 50257, 284, 787, 340, 764, 50259, 50258], 'attention_mask': [1, 1, 1, 1, 1, 1, 1, 1, 1, 1], 'labels': [-100, -100, -100, -100, -100, -100, -100, -100, -100, 1016]}\n",
      "{'input_ids': [1544, 705, 82, 1016, 50257, 787, 340, 764, 50259, 50258], 'attention_mask': [1, 1, 1, 1, 1, 1, 1, 1, 1, 1], 'labels': [-100, -100, -100, -100, -100, -100, -100, -100, -100, 284]}\n",
      "{'input_ids': [1544, 705, 82, 1016, 284, 50257, 340, 764, 50259, 50258], 'attention_mask': [1, 1, 1, 1, 1, 1, 1, 1, 1, 1], 'labels': [-100, -100, -100, -100, -100, -100, -100, -100, -100, 787]}\n",
      "{'input_ids': [1544, 705, 82, 1016, 284, 787, 50257, 764, 50259, 50258], 'attention_mask': [1, 1, 1, 1, 1, 1, 1, 1, 1, 1], 'labels': [-100, -100, -100, -100, -100, -100, -100, -100, -100, 340]}\n",
      "{'input_ids': [1544, 705, 82, 1016, 284, 787, 340, 50257, 50259, 50258], 'attention_mask': [1, 1, 1, 1, 1, 1, 1, 1, 1, 1], 'labels': [-100, -100, -100, -100, -100, -100, -100, -100, -100, 764]}\n",
      "{'input_ids': [50257, 760, 837, 314, 705, 76, 5410, 319, 5442, 319, 3431, 764, 50259, 50258], 'attention_mask': [1, 1, 1, 1, 1, 1, 1, 1, 1, 1, 1, 1, 1, 1], 'labels': [-100, -100, -100, -100, -100, -100, -100, -100, -100, -100, -100, -100, -100, 1639]}\n",
      "{'input_ids': [1639, 50257, 837, 314, 705, 76, 5410, 319, 5442, 319, 3431, 764, 50259, 50258], 'attention_mask': [1, 1, 1, 1, 1, 1, 1, 1, 1, 1, 1, 1, 1, 1], 'labels': [-100, -100, -100, -100, -100, -100, -100, -100, -100, -100, -100, -100, -100, 760]}\n",
      "{'input_ids': [1639, 760, 50257, 314, 705, 76, 5410, 319, 5442, 319, 3431, 764, 50259, 50258], 'attention_mask': [1, 1, 1, 1, 1, 1, 1, 1, 1, 1, 1, 1, 1, 1], 'labels': [-100, -100, -100, -100, -100, -100, -100, -100, -100, -100, -100, -100, -100, 837]}\n",
      "{'input_ids': [1639, 760, 837, 50257, 705, 76, 5410, 319, 5442, 319, 3431, 764, 50259, 50258], 'attention_mask': [1, 1, 1, 1, 1, 1, 1, 1, 1, 1, 1, 1, 1, 1], 'labels': [-100, -100, -100, -100, -100, -100, -100, -100, -100, -100, -100, -100, -100, 314]}\n",
      "{'input_ids': [1639, 760, 837, 314, 50257, 76, 5410, 319, 5442, 319, 3431, 764, 50259, 50258], 'attention_mask': [1, 1, 1, 1, 1, 1, 1, 1, 1, 1, 1, 1, 1, 1], 'labels': [-100, -100, -100, -100, -100, -100, -100, -100, -100, -100, -100, -100, -100, 705]}\n",
      "{'input_ids': [1639, 760, 837, 314, 705, 50257, 5410, 319, 5442, 319, 3431, 764, 50259, 50258], 'attention_mask': [1, 1, 1, 1, 1, 1, 1, 1, 1, 1, 1, 1, 1, 1], 'labels': [-100, -100, -100, -100, -100, -100, -100, -100, -100, -100, -100, -100, -100, 76]}\n",
      "{'input_ids': [1639, 760, 837, 314, 705, 76, 50257, 319, 5442, 319, 3431, 764, 50259, 50258], 'attention_mask': [1, 1, 1, 1, 1, 1, 1, 1, 1, 1, 1, 1, 1, 1], 'labels': [-100, -100, -100, -100, -100, -100, -100, -100, -100, -100, -100, -100, -100, 5410]}\n",
      "{'input_ids': [1639, 760, 837, 314, 705, 76, 5410, 50257, 5442, 319, 3431, 764, 50259, 50258], 'attention_mask': [1, 1, 1, 1, 1, 1, 1, 1, 1, 1, 1, 1, 1, 1], 'labels': [-100, -100, -100, -100, -100, -100, -100, -100, -100, -100, -100, -100, -100, 319]}\n",
      "{'input_ids': [1639, 760, 837, 314, 705, 76, 5410, 319, 50257, 319, 3431, 764, 50259, 50258], 'attention_mask': [1, 1, 1, 1, 1, 1, 1, 1, 1, 1, 1, 1, 1, 1], 'labels': [-100, -100, -100, -100, -100, -100, -100, -100, -100, -100, -100, -100, -100, 5442]}\n",
      "{'input_ids': [1639, 760, 837, 314, 705, 76, 5410, 319, 5442, 50257, 3431, 764, 50259, 50258], 'attention_mask': [1, 1, 1, 1, 1, 1, 1, 1, 1, 1, 1, 1, 1, 1], 'labels': [-100, -100, -100, -100, -100, -100, -100, -100, -100, -100, -100, -100, -100, 319]}\n",
      "{'input_ids': [1639, 760, 837, 314, 705, 76, 5410, 319, 5442, 319, 50257, 764, 50259, 50258], 'attention_mask': [1, 1, 1, 1, 1, 1, 1, 1, 1, 1, 1, 1, 1, 1], 'labels': [-100, -100, -100, -100, -100, -100, -100, -100, -100, -100, -100, -100, -100, 3431]}\n",
      "{'input_ids': [1639, 760, 837, 314, 705, 76, 5410, 319, 5442, 319, 3431, 50257, 50259, 50258], 'attention_mask': [1, 1, 1, 1, 1, 1, 1, 1, 1, 1, 1, 1, 1, 1], 'labels': [-100, -100, -100, -100, -100, -100, -100, -100, -100, -100, -100, -100, -100, 764]}\n",
      "{'input_ids': [50257, 837, 484, 547, 1464, 21205, 764, 50259, 50258], 'attention_mask': [1, 1, 1, 1, 1, 1, 1, 1, 1], 'labels': [-100, -100, -100, -100, -100, -100, -100, -100, 2396]}\n",
      "{'input_ids': [2396, 50257, 484, 547, 1464, 21205, 764, 50259, 50258], 'attention_mask': [1, 1, 1, 1, 1, 1, 1, 1, 1], 'labels': [-100, -100, -100, -100, -100, -100, -100, -100, 837]}\n",
      "{'input_ids': [2396, 837, 50257, 547, 1464, 21205, 764, 50259, 50258], 'attention_mask': [1, 1, 1, 1, 1, 1, 1, 1, 1], 'labels': [-100, -100, -100, -100, -100, -100, -100, -100, 484]}\n",
      "{'input_ids': [2396, 837, 484, 50257, 1464, 21205, 764, 50259, 50258], 'attention_mask': [1, 1, 1, 1, 1, 1, 1, 1, 1], 'labels': [-100, -100, -100, -100, -100, -100, -100, -100, 547]}\n",
      "{'input_ids': [2396, 837, 484, 547, 50257, 21205, 764, 50259, 50258], 'attention_mask': [1, 1, 1, 1, 1, 1, 1, 1, 1], 'labels': [-100, -100, -100, -100, -100, -100, -100, -100, 1464]}\n",
      "{'input_ids': [2396, 837, 484, 547, 1464, 50257, 764, 50259, 50258], 'attention_mask': [1, 1, 1, 1, 1, 1, 1, 1, 1], 'labels': [-100, -100, -100, -100, -100, -100, -100, -100, 21205]}\n",
      "{'input_ids': [2396, 837, 484, 547, 1464, 21205, 50257, 50259, 50258], 'attention_mask': [1, 1, 1, 1, 1, 1, 1, 1, 1], 'labels': [-100, -100, -100, -100, -100, -100, -100, -100, 764]}\n",
      "{'input_ids': [50257, 345, 1654, 326, 326, 1048, 1762, 379, 326, 4190, 46608, 318, 8776, 287, 3272, 12, 3642, 24979, 290, 30429, 1634, 9021, 5633, 50259, 50258], 'attention_mask': [1, 1, 1, 1, 1, 1, 1, 1, 1, 1, 1, 1, 1, 1, 1, 1, 1, 1, 1, 1, 1, 1, 1, 1, 1], 'labels': [-100, -100, -100, -100, -100, -100, -100, -100, -100, -100, -100, -100, -100, -100, -100, -100, -100, -100, -100, -100, -100, -100, -100, -100, 8491]}\n",
      "{'input_ids': [8491, 50257, 1654, 326, 326, 1048, 1762, 379, 326, 4190, 46608, 318, 8776, 287, 3272, 12, 3642, 24979, 290, 30429, 1634, 9021, 5633, 50259, 50258], 'attention_mask': [1, 1, 1, 1, 1, 1, 1, 1, 1, 1, 1, 1, 1, 1, 1, 1, 1, 1, 1, 1, 1, 1, 1, 1, 1], 'labels': [-100, -100, -100, -100, -100, -100, -100, -100, -100, -100, -100, -100, -100, -100, -100, -100, -100, -100, -100, -100, -100, -100, -100, -100, 345]}\n",
      "{'input_ids': [8491, 345, 50257, 326, 326, 1048, 1762, 379, 326, 4190, 46608, 318, 8776, 287, 3272, 12, 3642, 24979, 290, 30429, 1634, 9021, 5633, 50259, 50258], 'attention_mask': [1, 1, 1, 1, 1, 1, 1, 1, 1, 1, 1, 1, 1, 1, 1, 1, 1, 1, 1, 1, 1, 1, 1, 1, 1], 'labels': [-100, -100, -100, -100, -100, -100, -100, -100, -100, -100, -100, -100, -100, -100, -100, -100, -100, -100, -100, -100, -100, -100, -100, -100, 1654]}\n",
      "{'input_ids': [8491, 345, 1654, 50257, 326, 1048, 1762, 379, 326, 4190, 46608, 318, 8776, 287, 3272, 12, 3642, 24979, 290, 30429, 1634, 9021, 5633, 50259, 50258], 'attention_mask': [1, 1, 1, 1, 1, 1, 1, 1, 1, 1, 1, 1, 1, 1, 1, 1, 1, 1, 1, 1, 1, 1, 1, 1, 1], 'labels': [-100, -100, -100, -100, -100, -100, -100, -100, -100, -100, -100, -100, -100, -100, -100, -100, -100, -100, -100, -100, -100, -100, -100, -100, 326]}\n",
      "{'input_ids': [8491, 345, 1654, 326, 50257, 1048, 1762, 379, 326, 4190, 46608, 318, 8776, 287, 3272, 12, 3642, 24979, 290, 30429, 1634, 9021, 5633, 50259, 50258], 'attention_mask': [1, 1, 1, 1, 1, 1, 1, 1, 1, 1, 1, 1, 1, 1, 1, 1, 1, 1, 1, 1, 1, 1, 1, 1, 1], 'labels': [-100, -100, -100, -100, -100, -100, -100, -100, -100, -100, -100, -100, -100, -100, -100, -100, -100, -100, -100, -100, -100, -100, -100, -100, 326]}\n",
      "{'input_ids': [8491, 345, 1654, 326, 326, 50257, 1762, 379, 326, 4190, 46608, 318, 8776, 287, 3272, 12, 3642, 24979, 290, 30429, 1634, 9021, 5633, 50259, 50258], 'attention_mask': [1, 1, 1, 1, 1, 1, 1, 1, 1, 1, 1, 1, 1, 1, 1, 1, 1, 1, 1, 1, 1, 1, 1, 1, 1], 'labels': [-100, -100, -100, -100, -100, -100, -100, -100, -100, -100, -100, -100, -100, -100, -100, -100, -100, -100, -100, -100, -100, -100, -100, -100, 1048]}\n",
      "{'input_ids': [8491, 345, 1654, 326, 326, 1048, 50257, 379, 326, 4190, 46608, 318, 8776, 287, 3272, 12, 3642, 24979, 290, 30429, 1634, 9021, 5633, 50259, 50258], 'attention_mask': [1, 1, 1, 1, 1, 1, 1, 1, 1, 1, 1, 1, 1, 1, 1, 1, 1, 1, 1, 1, 1, 1, 1, 1, 1], 'labels': [-100, -100, -100, -100, -100, -100, -100, -100, -100, -100, -100, -100, -100, -100, -100, -100, -100, -100, -100, -100, -100, -100, -100, -100, 1762]}\n",
      "{'input_ids': [8491, 345, 1654, 326, 326, 1048, 1762, 50257, 326, 4190, 46608, 318, 8776, 287, 3272, 12, 3642, 24979, 290, 30429, 1634, 9021, 5633, 50259, 50258], 'attention_mask': [1, 1, 1, 1, 1, 1, 1, 1, 1, 1, 1, 1, 1, 1, 1, 1, 1, 1, 1, 1, 1, 1, 1, 1, 1], 'labels': [-100, -100, -100, -100, -100, -100, -100, -100, -100, -100, -100, -100, -100, -100, -100, -100, -100, -100, -100, -100, -100, -100, -100, -100, 379]}\n",
      "{'input_ids': [8491, 345, 1654, 326, 326, 1048, 1762, 379, 50257, 4190, 46608, 318, 8776, 287, 3272, 12, 3642, 24979, 290, 30429, 1634, 9021, 5633, 50259, 50258], 'attention_mask': [1, 1, 1, 1, 1, 1, 1, 1, 1, 1, 1, 1, 1, 1, 1, 1, 1, 1, 1, 1, 1, 1, 1, 1, 1], 'labels': [-100, -100, -100, -100, -100, -100, -100, -100, -100, -100, -100, -100, -100, -100, -100, -100, -100, -100, -100, -100, -100, -100, -100, -100, 326]}\n",
      "{'input_ids': [8491, 345, 1654, 326, 326, 1048, 1762, 379, 326, 50257, 46608, 318, 8776, 287, 3272, 12, 3642, 24979, 290, 30429, 1634, 9021, 5633, 50259, 50258], 'attention_mask': [1, 1, 1, 1, 1, 1, 1, 1, 1, 1, 1, 1, 1, 1, 1, 1, 1, 1, 1, 1, 1, 1, 1, 1, 1], 'labels': [-100, -100, -100, -100, -100, -100, -100, -100, -100, -100, -100, -100, -100, -100, -100, -100, -100, -100, -100, -100, -100, -100, -100, -100, 4190]}\n",
      "{'input_ids': [8491, 345, 1654, 326, 326, 1048, 1762, 379, 326, 4190, 50257, 318, 8776, 287, 3272, 12, 3642, 24979, 290, 30429, 1634, 9021, 5633, 50259, 50258], 'attention_mask': [1, 1, 1, 1, 1, 1, 1, 1, 1, 1, 1, 1, 1, 1, 1, 1, 1, 1, 1, 1, 1, 1, 1, 1, 1], 'labels': [-100, -100, -100, -100, -100, -100, -100, -100, -100, -100, -100, -100, -100, -100, -100, -100, -100, -100, -100, -100, -100, -100, -100, -100, 46608]}\n",
      "{'input_ids': [8491, 345, 1654, 326, 326, 1048, 1762, 379, 326, 4190, 46608, 50257, 8776, 287, 3272, 12, 3642, 24979, 290, 30429, 1634, 9021, 5633, 50259, 50258], 'attention_mask': [1, 1, 1, 1, 1, 1, 1, 1, 1, 1, 1, 1, 1, 1, 1, 1, 1, 1, 1, 1, 1, 1, 1, 1, 1], 'labels': [-100, -100, -100, -100, -100, -100, -100, -100, -100, -100, -100, -100, -100, -100, -100, -100, -100, -100, -100, -100, -100, -100, -100, -100, 318]}\n",
      "{'input_ids': [8491, 345, 1654, 326, 326, 1048, 1762, 379, 326, 4190, 46608, 318, 50257, 287, 3272, 12, 3642, 24979, 290, 30429, 1634, 9021, 5633, 50259, 50258], 'attention_mask': [1, 1, 1, 1, 1, 1, 1, 1, 1, 1, 1, 1, 1, 1, 1, 1, 1, 1, 1, 1, 1, 1, 1, 1, 1], 'labels': [-100, -100, -100, -100, -100, -100, -100, -100, -100, -100, -100, -100, -100, -100, -100, -100, -100, -100, -100, -100, -100, -100, -100, -100, 8776]}\n"
     ]
    }
   ],
   "source": [
    "my_iterable_dataset = IterableDataset.from_generator(gen_bidi_inputs, gen_kwargs={\"dataset\": test_set})\n",
    "i = 0\n",
    "for example in my_iterable_dataset:\n",
    "    i += 1\n",
    "    print(example)\n",
    "    if i == 40:\n",
    "        break"
   ]
  }
 ],
 "metadata": {
  "kernelspec": {
   "display_name": "car1",
   "language": "python",
   "name": "python3"
  },
  "language_info": {
   "codemirror_mode": {
    "name": "ipython",
    "version": 3
   },
   "file_extension": ".py",
   "mimetype": "text/x-python",
   "name": "python",
   "nbconvert_exporter": "python",
   "pygments_lexer": "ipython3",
   "version": "3.12.2"
  }
 },
 "nbformat": 4,
 "nbformat_minor": 2
}
